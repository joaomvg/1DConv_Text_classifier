{
 "cells": [
  {
   "cell_type": "code",
   "execution_count": 3,
   "metadata": {
    "colab": {
     "base_uri": "https://localhost:8080/",
     "height": 34
    },
    "colab_type": "code",
    "executionInfo": {
     "elapsed": 3869,
     "status": "ok",
     "timestamp": 1600861903350,
     "user": {
      "displayName": "Joao Gomes",
      "photoUrl": "",
      "userId": "01267124615282327110"
     },
     "user_tz": -120
    },
    "id": "8tBq17QBLhBF",
    "outputId": "90d8ee84-2cce-4bf5-da42-9d49a7679fa6"
   },
   "outputs": [
    {
     "name": "stdout",
     "output_type": "stream",
     "text": [
      "Requirement already satisfied: numpy==1.15.4 in /usr/local/lib/python3.6/dist-packages (1.15.4)\n"
     ]
    }
   ],
   "source": [
    "!pip3 install numpy==1.15.4"
   ]
  },
  {
   "cell_type": "code",
   "execution_count": 4,
   "metadata": {
    "colab": {},
    "colab_type": "code",
    "executionInfo": {
     "elapsed": 401,
     "status": "ok",
     "timestamp": 1600861904415,
     "user": {
      "displayName": "Joao Gomes",
      "photoUrl": "",
      "userId": "01267124615282327110"
     },
     "user_tz": -120
    },
    "id": "EDYXDhOJW0PD"
   },
   "outputs": [],
   "source": [
    "import pandas as pd\n",
    "import numpy as np\n",
    "import re\n",
    "import json\n",
    "import pickle\n",
    "\n",
    "import torch\n",
    "import torch.nn as nn\n",
    "from torch.utils.data import Dataset\n",
    "import torch.optim as optim\n",
    "import torch.utils.data\n",
    "import torch.nn.functional as F\n",
    "\n",
    "from tqdm import tqdm\n",
    "from tqdm import tqdm_notebook\n",
    "from tqdm import notebook\n",
    "\n",
    "import h5py\n",
    "from google.colab import drive"
   ]
  },
  {
   "cell_type": "code",
   "execution_count": 5,
   "metadata": {
    "colab": {
     "base_uri": "https://localhost:8080/",
     "height": 34
    },
    "colab_type": "code",
    "executionInfo": {
     "elapsed": 834,
     "status": "ok",
     "timestamp": 1600861906886,
     "user": {
      "displayName": "Joao Gomes",
      "photoUrl": "",
      "userId": "01267124615282327110"
     },
     "user_tz": -120
    },
    "id": "LoHNBabMxU-B",
    "outputId": "2328a3d8-998c-44d9-bf27-dda0925db7e8"
   },
   "outputs": [
    {
     "name": "stdout",
     "output_type": "stream",
     "text": [
      "Drive already mounted at /content/drive; to attempt to forcibly remount, call drive.mount(\"/content/drive\", force_remount=True).\n"
     ]
    }
   ],
   "source": [
    "drive.mount('/content/drive')"
   ]
  },
  {
   "cell_type": "code",
   "execution_count": 6,
   "metadata": {
    "colab": {
     "base_uri": "https://localhost:8080/",
     "height": 34
    },
    "colab_type": "code",
    "executionInfo": {
     "elapsed": 846,
     "status": "ok",
     "timestamp": 1600861908447,
     "user": {
      "displayName": "Joao Gomes",
      "photoUrl": "",
      "userId": "01267124615282327110"
     },
     "user_tz": -120
    },
    "id": "DwrHX1rExeXH",
    "outputId": "3a7b176b-8e75-4715-b442-b9112556fa4b"
   },
   "outputs": [
    {
     "name": "stdout",
     "output_type": "stream",
     "text": [
      "/content/drive/My Drive\n"
     ]
    }
   ],
   "source": [
    "cd drive/My\\ Drive"
   ]
  },
  {
   "cell_type": "code",
   "execution_count": 7,
   "metadata": {
    "colab": {},
    "colab_type": "code",
    "executionInfo": {
     "elapsed": 400,
     "status": "ok",
     "timestamp": 1600861909448,
     "user": {
      "displayName": "Joao Gomes",
      "photoUrl": "",
      "userId": "01267124615282327110"
     },
     "user_tz": -120
    },
    "id": "hQ9WvutCyRqJ"
   },
   "outputs": [],
   "source": [
    "def labels_map(y):\n",
    "    S=set(y)\n",
    "    num=len(S)\n",
    "    dic={word:i for i, word in enumerate(S)}\n",
    "    \n",
    "    labels=y.apply(lambda val: dic[val])\n",
    "    \n",
    "    return labels.values    "
   ]
  },
  {
   "cell_type": "markdown",
   "metadata": {
    "colab_type": "text",
    "id": "vOX_Df5a-qe5"
   },
   "source": [
    "# All names and categories"
   ]
  },
  {
   "cell_type": "code",
   "execution_count": 8,
   "metadata": {
    "colab": {},
    "colab_type": "code",
    "executionInfo": {
     "elapsed": 1931,
     "status": "ok",
     "timestamp": 1600861914471,
     "user": {
      "displayName": "Joao Gomes",
      "photoUrl": "",
      "userId": "01267124615282327110"
     },
     "user_tz": -120
    },
    "id": "tubfSYOWW0PN"
   },
   "outputs": [],
   "source": [
    "df=pd.read_hdf('name_category.h5',key='data',mode='r')"
   ]
  },
  {
   "cell_type": "code",
   "execution_count": 9,
   "metadata": {
    "colab": {},
    "colab_type": "code",
    "executionInfo": {
     "elapsed": 1216,
     "status": "ok",
     "timestamp": 1600861916489,
     "user": {
      "displayName": "Joao Gomes",
      "photoUrl": "",
      "userId": "01267124615282327110"
     },
     "user_tz": -120
    },
    "id": "BK3aoPw64xX0"
   },
   "outputs": [],
   "source": [
    "df['name']=df['name'].str.lower()"
   ]
  },
  {
   "cell_type": "code",
   "execution_count": null,
   "metadata": {
    "colab": {
     "base_uri": "https://localhost:8080/",
     "height": 34
    },
    "colab_type": "code",
    "executionInfo": {
     "elapsed": 907,
     "status": "ok",
     "timestamp": 1600846168083,
     "user": {
      "displayName": "Joao Gomes",
      "photoUrl": "",
      "userId": "01267124615282327110"
     },
     "user_tz": -120
    },
    "id": "rsYIoGjpYvxE",
    "outputId": "ce8e44c9-3493-4806-9506-e5306535d0f1"
   },
   "outputs": [
    {
     "data": {
      "text/plain": [
       "1186"
      ]
     },
     "execution_count": 7,
     "metadata": {
      "tags": []
     },
     "output_type": "execute_result"
    }
   ],
   "source": [
    "num_classes=len(set(df['category'].values))\n",
    "num_classes"
   ]
  },
  {
   "cell_type": "code",
   "execution_count": null,
   "metadata": {
    "colab": {},
    "colab_type": "code",
    "id": "WEtRQB8a4VMq"
   },
   "outputs": [],
   "source": [
    "labels=labels_map(df['category'])"
   ]
  },
  {
   "cell_type": "markdown",
   "metadata": {
    "colab_type": "text",
    "id": "AZxiumc4-waj"
   },
   "source": [
    "### Small subset"
   ]
  },
  {
   "cell_type": "code",
   "execution_count": 10,
   "metadata": {
    "colab": {},
    "colab_type": "code",
    "executionInfo": {
     "elapsed": 1094,
     "status": "ok",
     "timestamp": 1600861924387,
     "user": {
      "displayName": "Joao Gomes",
      "photoUrl": "",
      "userId": "01267124615282327110"
     },
     "user_tz": -120
    },
    "id": "nw4Jrej2x2sH"
   },
   "outputs": [],
   "source": [
    "lst=['Bouwbedrijf','Computersoftware','Kapper','Reclame','Administratiekantoor','Adviesbureaus']\n",
    "df_reduced=df[df['category'].isin(lst)].copy()\n",
    "df_reduced.loc[:,'name']=df_reduced['name'].str.lower()"
   ]
  },
  {
   "cell_type": "code",
   "execution_count": 12,
   "metadata": {
    "colab": {},
    "colab_type": "code",
    "executionInfo": {
     "elapsed": 831,
     "status": "ok",
     "timestamp": 1600861970324,
     "user": {
      "displayName": "Joao Gomes",
      "photoUrl": "",
      "userId": "01267124615282327110"
     },
     "user_tz": -120
    },
    "id": "eSph5Hphzqf4"
   },
   "outputs": [],
   "source": [
    "labels=labels_map(df_reduced['category'])\n",
    "num_classes=len(set(labels))"
   ]
  },
  {
   "cell_type": "markdown",
   "metadata": {
    "colab_type": "text",
    "id": "2vmdz1ST-8YZ"
   },
   "source": [
    "# Experimental categories"
   ]
  },
  {
   "cell_type": "code",
   "execution_count": 93,
   "metadata": {
    "colab": {
     "base_uri": "https://localhost:8080/",
     "height": 187
    },
    "colab_type": "code",
    "executionInfo": {
     "elapsed": 3073,
     "status": "ok",
     "timestamp": 1600867661852,
     "user": {
      "displayName": "Joao Gomes",
      "photoUrl": "",
      "userId": "01267124615282327110"
     },
     "user_tz": -120
    },
    "id": "8PPac5FcIBul",
    "outputId": "924e7c84-9bd8-4c94-a116-5d7c07fcf357"
   },
   "outputs": [
    {
     "data": {
      "text/plain": [
       "opleiding          355211\n",
       "diensten           262805\n",
       "winkel             259861\n",
       "vrije tijd         140906\n",
       "gezondheidszorg    136865\n",
       "gereedschap        127734\n",
       "regering            99355\n",
       "reizen              25868\n",
       "boodschappen         3901\n",
       "Name: category0, dtype: int64"
      ]
     },
     "execution_count": 93,
     "metadata": {
      "tags": []
     },
     "output_type": "execute_result"
    }
   ],
   "source": [
    "df=pd.read_hdf('data_conv_experimental.h5',key='data',mode='r')\n",
    "df.loc[:,'name']=df['name'].str.lower()\n",
    "df['category0'].value_counts()"
   ]
  },
  {
   "cell_type": "code",
   "execution_count": null,
   "metadata": {
    "colab": {
     "base_uri": "https://localhost:8080/",
     "height": 34
    },
    "colab_type": "code",
    "executionInfo": {
     "elapsed": 1044,
     "status": "ok",
     "timestamp": 1600429019325,
     "user": {
      "displayName": "Joao Gomes",
      "photoUrl": "",
      "userId": "01267124615282327110"
     },
     "user_tz": -120
    },
    "id": "Gr5DrBfhAAnF",
    "outputId": "dd238d7b-4ef3-496d-c13c-f4958fac4d69"
   },
   "outputs": [
    {
     "name": "stdout",
     "output_type": "stream",
     "text": [
      "Number of classes:  9\n"
     ]
    }
   ],
   "source": [
    "labels=labels_map(df['category0'])\n",
    "num_classes=len(set(labels))\n",
    "print(\"Number of classes: \",num_classes)"
   ]
  },
  {
   "cell_type": "markdown",
   "metadata": {
    "colab_type": "text",
    "id": "l6lZMkZvAXUD"
   },
   "source": [
    "### Small subset"
   ]
  },
  {
   "cell_type": "code",
   "execution_count": 94,
   "metadata": {
    "colab": {},
    "colab_type": "code",
    "executionInfo": {
     "elapsed": 1227,
     "status": "ok",
     "timestamp": 1600867680270,
     "user": {
      "displayName": "Joao Gomes",
      "photoUrl": "",
      "userId": "01267124615282327110"
     },
     "user_tz": -120
    },
    "id": "7v2v2ELgIO9o"
   },
   "outputs": [],
   "source": [
    "lst=['diensten','winkel','gereedschap']\n",
    "idx=  df['category0'].isin(lst)\n",
    "df_reduced=df[idx].copy()"
   ]
  },
  {
   "cell_type": "code",
   "execution_count": 95,
   "metadata": {
    "colab": {},
    "colab_type": "code",
    "executionInfo": {
     "elapsed": 1163,
     "status": "ok",
     "timestamp": 1600867682243,
     "user": {
      "displayName": "Joao Gomes",
      "photoUrl": "",
      "userId": "01267124615282327110"
     },
     "user_tz": -120
    },
    "id": "LWbGFsowIZOX"
   },
   "outputs": [],
   "source": [
    "labels=labels_map(df_reduced['category0'])\n",
    "num_classes=len(set(labels))"
   ]
  },
  {
   "cell_type": "markdown",
   "metadata": {
    "colab_type": "text",
    "id": "0fqJ8o9QW0Pd"
   },
   "source": [
    "# Pytorch model"
   ]
  },
  {
   "cell_type": "code",
   "execution_count": 107,
   "metadata": {
    "colab": {},
    "colab_type": "code",
    "executionInfo": {
     "elapsed": 819,
     "status": "ok",
     "timestamp": 1600867787639,
     "user": {
      "displayName": "Joao Gomes",
      "photoUrl": "",
      "userId": "01267124615282327110"
     },
     "user_tz": -120
    },
    "id": "-tP_B9IwW0Pf"
   },
   "outputs": [],
   "source": [
    "max_length=40\n",
    "alphabet=\"abcdefghijklmnopqrstuvwxyz0123456789-,;.!?:'\\\"/\\\\|_@#$%^&*~`+-=<>()[]{} \"\n",
    "args={'alphabet':alphabet,'number_of_characters':len(alphabet),'max_length':max_length,'dropout_input':0.2,'number_of_classes':num_classes}"
   ]
  },
  {
   "cell_type": "code",
   "execution_count": null,
   "metadata": {
    "colab": {
     "base_uri": "https://localhost:8080/",
     "height": 102
    },
    "colab_type": "code",
    "executionInfo": {
     "elapsed": 852,
     "status": "ok",
     "timestamp": 1600846175751,
     "user": {
      "displayName": "Joao Gomes",
      "photoUrl": "",
      "userId": "01267124615282327110"
     },
     "user_tz": -120
    },
    "id": "06OiyYQWW0Pi",
    "outputId": "a9d18ab8-4832-4f84-c00e-d0c94a87a210"
   },
   "outputs": [
    {
     "data": {
      "text/plain": [
       "{'alphabet': 'abcdefghijklmnopqrstuvwxyz0123456789-,;.!?:\\'\"/\\\\|_@#$%^&*~`+-=<>()[]{} ',\n",
       " 'dropout_input': 0.2,\n",
       " 'max_length': 40,\n",
       " 'number_of_characters': 70,\n",
       " 'number_of_classes': 1186}"
      ]
     },
     "execution_count": 10,
     "metadata": {
      "tags": []
     },
     "output_type": "execute_result"
    }
   ],
   "source": [
    "args"
   ]
  },
  {
   "cell_type": "code",
   "execution_count": 128,
   "metadata": {
    "colab": {},
    "colab_type": "code",
    "executionInfo": {
     "elapsed": 871,
     "status": "ok",
     "timestamp": 1600872365285,
     "user": {
      "displayName": "Joao Gomes",
      "photoUrl": "",
      "userId": "01267124615282327110"
     },
     "user_tz": -120
    },
    "id": "xFgV-Nj-W0Pk"
   },
   "outputs": [],
   "source": [
    "class CNN_Embedding(nn.Module):\n",
    "    def __init__(self,num_categories,embedding_dim, args):\n",
    "        super(CNN_Embedding, self).__init__()\n",
    "\n",
    "        # define conv layers\n",
    "        self.num_categories=num_categories\n",
    "        self.embed_dim=embedding_dim\n",
    "        self.embed=nn.Linear(self.embed_dim,self.num_categories,bias=False)\n",
    "        self.drop_input=nn.Dropout2d(0.3)\n",
    "        self.conv1 = nn.Sequential(nn.Conv1d(args['number_of_characters'],\n",
    "                                             500,\n",
    "                                             kernel_size=6,\n",
    "                                             padding=0),\n",
    "                                   nn.ReLU(),\n",
    "                                   nn.MaxPool1d(2)\n",
    "                                   )\n",
    "\n",
    "        self.conv2 = nn.Sequential(nn.Conv1d(500, 500, kernel_size=3, padding=0),\n",
    "                                   nn.ReLU(),\n",
    "                                   nn.MaxPool1d(2)\n",
    "                                   )\n",
    "      \n",
    "        self.conv3 = nn.Sequential(nn.Conv1d(100, 100, kernel_size=3, padding=0),\n",
    "                                   nn.ReLU()\n",
    "                                   )\n",
    "        \n",
    "        \n",
    "        # compute the  output shape after forwarding an input to the conv layers\n",
    "\n",
    "        input_shape = (128,\n",
    "                       args['max_length'],\n",
    "                       args['number_of_characters'])\n",
    "        \n",
    "        self.output_dimension = self._get_conv_output(input_shape)\n",
    "\n",
    "        # define linear layers\n",
    "\n",
    "        self.fc1 = nn.Sequential(\n",
    "            nn.Linear(self.output_dimension, 500),\n",
    "            nn.ReLU(),nn.Dropout(0.2)\n",
    "            \n",
    "        )\n",
    "\n",
    "        self.fc2 = nn.Sequential(\n",
    "            nn.Linear(500, 500),\n",
    "            nn.ReLU()\n",
    "            \n",
    "        )\n",
    "\n",
    "        self.fc3 = nn.Sequential(nn.Linear(500, self.embed_dim))\n",
    "\n",
    "        # initialize weights\n",
    "\n",
    "        self._create_weights()\n",
    "\n",
    "    # utility private functions\n",
    "\n",
    "    def _create_weights(self, mean=0.0, std=0.05):\n",
    "        for module in self.modules():\n",
    "            if isinstance(module, nn.Conv1d) or isinstance(module, nn.Linear):\n",
    "                module.weight.data.normal_(mean, std)\n",
    "\n",
    "\n",
    "    def _get_conv_output(self, shape):\n",
    "        x = torch.rand(shape)\n",
    "        x = x.transpose(1, 2)\n",
    "        x = self.conv1(x)\n",
    "        x = self.conv2(x)\n",
    "        #x = self.conv3(x)\n",
    "        x = x.view(x.size(0), -1)\n",
    "        output_dimension = x.size(1)\n",
    "        return output_dimension\n",
    "\n",
    "    # forward\n",
    "\n",
    "    def forward(self, x):\n",
    "        x=self.drop_input(x)\n",
    "        x = x.transpose(1, 2)\n",
    "        x = self.conv1(x)\n",
    "        x = self.conv2(x)\n",
    "        #x = self.conv3(x)\n",
    "        x = x.view(x.size(0), -1)\n",
    "        x = self.fc1(x)\n",
    "        x = self.fc2(x)\n",
    "        x = self.fc3(x)\n",
    "        x=F.normalize(x,p=2,dim=1)\n",
    "        x=self.embed(x)\n",
    "        x=x/torch.norm(self.embed.weight, dim=1).view(1,self.num_categories)\n",
    "        \n",
    "        return x"
   ]
  },
  {
   "cell_type": "code",
   "execution_count": 108,
   "metadata": {
    "colab": {},
    "colab_type": "code",
    "executionInfo": {
     "elapsed": 923,
     "status": "ok",
     "timestamp": 1600867793497,
     "user": {
      "displayName": "Joao Gomes",
      "photoUrl": "",
      "userId": "01267124615282327110"
     },
     "user_tz": -120
    },
    "id": "BUL2hwx-W0Pm"
   },
   "outputs": [],
   "source": [
    "class MyDataset(Dataset):\n",
    "    def __init__(self, texts, labels, args):\n",
    "        self.texts = texts\n",
    "        self.labels = labels\n",
    "        self.length = len(self.texts)\n",
    "        self.num_classes=args['number_of_classes']\n",
    "        self.vocabulary = args['alphabet'] \n",
    "        self.number_of_characters = args['number_of_characters'] \n",
    "        self.max_length = args['max_length']\n",
    "        self.identity_mat = np.identity(self.number_of_characters)\n",
    "\n",
    "    def __len__(self):\n",
    "        return self.length\n",
    "\n",
    "    def __getitem__(self, index):\n",
    "        raw_text = self.texts[index]\n",
    "\n",
    "        data = np.array([self.identity_mat[self.vocabulary.index(i)] for i in list(raw_text) if i in self.vocabulary],\n",
    "                        dtype=np.float32)\n",
    "        if len(data) > self.max_length:\n",
    "            data = data[:self.max_length]\n",
    "        elif 0 < len(data) < self.max_length:\n",
    "            data = np.concatenate(\n",
    "                (data, np.zeros((self.max_length - len(data), self.number_of_characters), dtype=np.float32)))\n",
    "        elif len(data) == 0:\n",
    "            data = np.zeros(\n",
    "                (self.max_length, self.number_of_characters), dtype=np.float32)\n",
    "\n",
    "        i = self.labels[index]\n",
    "        label=-1*torch.ones(self.num_classes)\n",
    "        label[i]=1\n",
    "        data = torch.Tensor(data)\n",
    "\n",
    "        return data, label"
   ]
  },
  {
   "cell_type": "markdown",
   "metadata": {
    "colab_type": "text",
    "id": "pFRhj1X3JtCP"
   },
   "source": [
    "### Focal Loss"
   ]
  },
  {
   "cell_type": "code",
   "execution_count": null,
   "metadata": {
    "colab": {},
    "colab_type": "code",
    "id": "A7clhmCjJnZy"
   },
   "outputs": [],
   "source": [
    "from torch.autograd import Variable\n",
    "\n",
    "class FocalLoss(nn.Module):\n",
    "    def __init__(self, gamma=0, alpha=None, size_average=True):\n",
    "        super(FocalLoss, self).__init__()\n",
    "        self.gamma = gamma\n",
    "        self.alpha = alpha\n",
    "        if isinstance(alpha,(float,int)): \n",
    "            self.alpha = torch.Tensor([alpha,1-alpha])\n",
    "        if isinstance(alpha,list): \n",
    "            self.alpha = torch.Tensor(alpha)\n",
    "        self.size_average = size_average\n",
    "\n",
    "    def forward(self, x, target):\n",
    "        if x.dim()>2:\n",
    "            x = x.view(x.size(0),x.size(1),-1)  # N,C,H,W => N,C,H*W\n",
    "            x = x.transpose(1,2)    # N,C,H*W => N,H*W,C\n",
    "            x = x.contiguous().view(-1,x.size(2))   # N,H*W,C => N*H*W,C\n",
    "        target = target.view(-1,1)\n",
    "\n",
    "        logpt = F.log_softmax(x)\n",
    "        logpt = logpt.gather(1,target)\n",
    "        logpt = logpt.view(-1)\n",
    "        pt = Variable(logpt.data.exp())\n",
    "\n",
    "        if self.alpha is not None:\n",
    "            if self.alpha.type()!=x.data.type():\n",
    "                self.alpha = self.alpha.type_as(x.data)\n",
    "            at = self.alpha.gather(0,target.data.view(-1))\n",
    "            logpt = logpt * Variable(at)\n",
    "\n",
    "        loss = -1 * (1-pt)**self.gamma * logpt\n",
    "        if self.size_average: \n",
    "            return loss.mean()\n",
    "        else: \n",
    "            return loss.sum()"
   ]
  },
  {
   "cell_type": "markdown",
   "metadata": {
    "colab_type": "text",
    "id": "HyaUtlmcW0P2"
   },
   "source": [
    "# Train"
   ]
  },
  {
   "cell_type": "code",
   "execution_count": 16,
   "metadata": {
    "colab": {},
    "colab_type": "code",
    "executionInfo": {
     "elapsed": 1118,
     "status": "ok",
     "timestamp": 1600861995891,
     "user": {
      "displayName": "Joao Gomes",
      "photoUrl": "",
      "userId": "01267124615282327110"
     },
     "user_tz": -120
    },
    "id": "GD5wjEeIW0P2"
   },
   "outputs": [],
   "source": [
    "def train(model, train_loader, epochs, criterion, optimizer, device):\n",
    "    L=len(train_loader.dataset)\n",
    "    for epoch in range(1, epochs + 1):\n",
    "        model.train() # Make sure that the model is in training mode.\n",
    "\n",
    "        total_loss = 0\n",
    "        iterator=notebook.tqdm(train_loader)\n",
    "        for batch in iterator:\n",
    "            # get data\n",
    "            batch_x, batch_y = batch\n",
    "            \n",
    "            batch_x = batch_x.to(device)\n",
    "            batch_y = batch_y.to(device)\n",
    "\n",
    "            optimizer.zero_grad()\n",
    "\n",
    "            # get predictions from model\n",
    "            y_pred = model(batch_x)\n",
    "        \n",
    "            # perform backprop\n",
    "            loss = criterion(y_pred, batch_y)\n",
    "            loss.backward()\n",
    "            optimizer.step()\n",
    "            \n",
    "            total_loss += loss.data.item()\n",
    "        iterator.close()\n",
    "        print(\"Epoch: {}, Loss: {}\".format(epoch, total_loss / L))"
   ]
  },
  {
   "cell_type": "markdown",
   "metadata": {
    "colab_type": "text",
    "id": "5q3EH3hT4WUF"
   },
   "source": [
    "# Train/Test data processing"
   ]
  },
  {
   "cell_type": "code",
   "execution_count": 109,
   "metadata": {
    "colab": {},
    "colab_type": "code",
    "executionInfo": {
     "elapsed": 882,
     "status": "ok",
     "timestamp": 1600867797964,
     "user": {
      "displayName": "Joao Gomes",
      "photoUrl": "",
      "userId": "01267124615282327110"
     },
     "user_tz": -120
    },
    "id": "cXJAfYlBW0P7"
   },
   "outputs": [],
   "source": [
    "indices=np.arange(df_reduced.shape[0])\n",
    "np.random.shuffle(indices)\n",
    "data_x=df_reduced.iloc[indices].copy()['name'].values\n",
    "data_y=labels[indices]\n",
    "\n",
    "nb_validation=int(0.2*len(indices))\n",
    "\n",
    "x_train=data_x[:-nb_validation]\n",
    "y_train=data_y[:-nb_validation]\n",
    "\n",
    "x_test=data_x[-nb_validation:]\n",
    "y_test=data_y[-nb_validation:]\n",
    "\n",
    "train_ds=MyDataset(x_train,y_train,args)\n",
    "test_ds=MyDataset(x_test,y_test,args)\n",
    "test_dl=torch.utils.data.DataLoader(test_ds, batch_size=128)\n",
    "train_dl=torch.utils.data.DataLoader(train_ds, batch_size=128)"
   ]
  },
  {
   "cell_type": "code",
   "execution_count": 97,
   "metadata": {
    "colab": {
     "base_uri": "https://localhost:8080/",
     "height": 34
    },
    "colab_type": "code",
    "executionInfo": {
     "elapsed": 845,
     "status": "ok",
     "timestamp": 1600867697745,
     "user": {
      "displayName": "Joao Gomes",
      "photoUrl": "",
      "userId": "01267124615282327110"
     },
     "user_tz": -120
    },
    "id": "R11g5GfrxmPm",
    "outputId": "e24caf3d-88ba-49e2-c0f8-f86dc0223f98"
   },
   "outputs": [
    {
     "data": {
      "text/plain": [
       "650400"
      ]
     },
     "execution_count": 97,
     "metadata": {
      "tags": []
     },
     "output_type": "execute_result"
    }
   ],
   "source": [
    "len(train_ds)+len(test_ds)"
   ]
  },
  {
   "cell_type": "code",
   "execution_count": 98,
   "metadata": {
    "colab": {
     "base_uri": "https://localhost:8080/",
     "height": 34
    },
    "colab_type": "code",
    "executionInfo": {
     "elapsed": 850,
     "status": "ok",
     "timestamp": 1600867700379,
     "user": {
      "displayName": "Joao Gomes",
      "photoUrl": "",
      "userId": "01267124615282327110"
     },
     "user_tz": -120
    },
    "id": "8CDBB86DrQua",
    "outputId": "f4712218-ce3b-4725-d0fa-ddb0498b51a4"
   },
   "outputs": [
    {
     "data": {
      "text/plain": [
       "3"
      ]
     },
     "execution_count": 98,
     "metadata": {
      "tags": []
     },
     "output_type": "execute_result"
    }
   ],
   "source": [
    "num_classes"
   ]
  },
  {
   "cell_type": "markdown",
   "metadata": {
    "colab_type": "text",
    "id": "UTi8qb8pW0QD"
   },
   "source": [
    "## Initialize model and train"
   ]
  },
  {
   "cell_type": "code",
   "execution_count": 20,
   "metadata": {
    "colab": {
     "base_uri": "https://localhost:8080/",
     "height": 34
    },
    "colab_type": "code",
    "executionInfo": {
     "elapsed": 848,
     "status": "ok",
     "timestamp": 1600862026673,
     "user": {
      "displayName": "Joao Gomes",
      "photoUrl": "",
      "userId": "01267124615282327110"
     },
     "user_tz": -120
    },
    "id": "iEHmt7kIW0QH",
    "outputId": "8bc70f7f-0f5f-497b-ce6b-b1951d890e65"
   },
   "outputs": [
    {
     "name": "stdout",
     "output_type": "stream",
     "text": [
      "Using device cuda.\n"
     ]
    }
   ],
   "source": [
    "device = torch.device(\"cuda\" if torch.cuda.is_available() else \"cpu\")\n",
    "print(\"Using device {}.\".format(device))"
   ]
  },
  {
   "cell_type": "code",
   "execution_count": 129,
   "metadata": {
    "colab": {},
    "colab_type": "code",
    "executionInfo": {
     "elapsed": 832,
     "status": "ok",
     "timestamp": 1600872375838,
     "user": {
      "displayName": "Joao Gomes",
      "photoUrl": "",
      "userId": "01267124615282327110"
     },
     "user_tz": -120
    },
    "id": "VHVsq2UojouI"
   },
   "outputs": [],
   "source": [
    "model=CNN_Embedding(num_classes,20,args).to(device)"
   ]
  },
  {
   "cell_type": "code",
   "execution_count": 130,
   "metadata": {
    "colab": {},
    "colab_type": "code",
    "executionInfo": {
     "elapsed": 1138,
     "status": "ok",
     "timestamp": 1600872380365,
     "user": {
      "displayName": "Joao Gomes",
      "photoUrl": "",
      "userId": "01267124615282327110"
     },
     "user_tz": -120
    },
    "id": "rbJ6b7bLW0QF"
   },
   "outputs": [],
   "source": [
    "optimizer = optim.Adam(model.parameters(),lr=0.1)\n",
    "loss_fn = torch.nn.MSELoss(reduction='sum')"
   ]
  },
  {
   "cell_type": "code",
   "execution_count": null,
   "metadata": {
    "colab": {},
    "colab_type": "code",
    "id": "UH7qgCid1xyC"
   },
   "outputs": [],
   "source": [
    "optimizer = optim.Adam(model.parameters(),lr=0.0001)\n",
    "loss_fn = FocalLoss(gamma=2)"
   ]
  },
  {
   "cell_type": "code",
   "execution_count": 1,
   "metadata": {
    "colab": {
     "base_uri": "https://localhost:8080/",
     "height": 163
    },
    "colab_type": "code",
    "executionInfo": {
     "elapsed": 925,
     "status": "error",
     "timestamp": 1600880105174,
     "user": {
      "displayName": "Joao Gomes",
      "photoUrl": "",
      "userId": "01267124615282327110"
     },
     "user_tz": -120
    },
    "id": "rwQ6oGp6tlIv",
    "outputId": "33d26903-94d6-473f-e2e3-e3128686c74c"
   },
   "outputs": [
    {
     "ename": "NameError",
     "evalue": "ignored",
     "output_type": "error",
     "traceback": [
      "\u001b[0;31m---------------------------------------------------------------------------\u001b[0m",
      "\u001b[0;31mNameError\u001b[0m                                 Traceback (most recent call last)",
      "\u001b[0;32m<ipython-input-1-36bf1ee54a0a>\u001b[0m in \u001b[0;36m<module>\u001b[0;34m()\u001b[0m\n\u001b[0;32m----> 1\u001b[0;31m \u001b[0mtrain\u001b[0m\u001b[0;34m(\u001b[0m\u001b[0mmodel\u001b[0m\u001b[0;34m,\u001b[0m \u001b[0mtrain_dl\u001b[0m\u001b[0;34m,\u001b[0m \u001b[0;36m30\u001b[0m\u001b[0;34m,\u001b[0m \u001b[0mloss_fn\u001b[0m\u001b[0;34m,\u001b[0m\u001b[0moptimizer\u001b[0m\u001b[0;34m,\u001b[0m \u001b[0mdevice\u001b[0m\u001b[0;34m)\u001b[0m\u001b[0;34m\u001b[0m\u001b[0;34m\u001b[0m\u001b[0m\n\u001b[0m",
      "\u001b[0;31mNameError\u001b[0m: name 'train' is not defined"
     ]
    }
   ],
   "source": [
    "train(model, train_dl, 30, loss_fn,optimizer, device)"
   ]
  },
  {
   "cell_type": "code",
   "execution_count": 25,
   "metadata": {
    "colab": {},
    "colab_type": "code",
    "executionInfo": {
     "elapsed": 826,
     "status": "ok",
     "timestamp": 1600862244653,
     "user": {
      "displayName": "Joao Gomes",
      "photoUrl": "",
      "userId": "01267124615282327110"
     },
     "user_tz": -120
    },
    "id": "WH7oJn7cclJj"
   },
   "outputs": [],
   "source": [
    "def test_MSE(model,val_dl):\n",
    "  model.eval()\n",
    "  with torch.no_grad():\n",
    "        loss=0\n",
    "        for batch in val_dl:\n",
    "            val_X,val_y=batch\n",
    "            val_X=val_X.to(device)\n",
    "            val_y=val_y.to(device)\n",
    "            x=model(val_X)\n",
    "            loss+=loss_fn(x,val_y)\n",
    "    \n",
    "  loss=loss/len(val_dl.dataset)\n",
    "  return loss"
   ]
  },
  {
   "cell_type": "code",
   "execution_count": 126,
   "metadata": {
    "colab": {
     "base_uri": "https://localhost:8080/",
     "height": 34
    },
    "colab_type": "code",
    "executionInfo": {
     "elapsed": 13504,
     "status": "ok",
     "timestamp": 1600871669880,
     "user": {
      "displayName": "Joao Gomes",
      "photoUrl": "",
      "userId": "01267124615282327110"
     },
     "user_tz": -120
    },
    "id": "GKxf0y2M0wtf",
    "outputId": "1e0f4ddf-4ae2-4399-94f3-5d3b2f2c57a4"
   },
   "outputs": [
    {
     "data": {
      "text/plain": [
       "tensor(1.8195, device='cuda:0')"
      ]
     },
     "execution_count": 126,
     "metadata": {
      "tags": []
     },
     "output_type": "execute_result"
    }
   ],
   "source": [
    "test_MSE(model,test_dl)"
   ]
  },
  {
   "cell_type": "code",
   "execution_count": 27,
   "metadata": {
    "colab": {},
    "colab_type": "code",
    "executionInfo": {
     "elapsed": 834,
     "status": "ok",
     "timestamp": 1600862266791,
     "user": {
      "displayName": "Joao Gomes",
      "photoUrl": "",
      "userId": "01267124615282327110"
     },
     "user_tz": -120
    },
    "id": "7WmhzDj178D5"
   },
   "outputs": [],
   "source": [
    "def topk_accuracy(model,val_dl,k):\n",
    "  model.eval()\n",
    "  with torch.no_grad():\n",
    "        accu=0\n",
    "        for batch in val_dl:\n",
    "            val_X,val_y=batch\n",
    "            val_X=val_X.to(device)\n",
    "            val_y=val_y.to(device)\n",
    "            z=val_y.argmax(dim=1).view(val_y.size(0),1)\n",
    "            preds=model(val_X)\n",
    "            out=torch.topk(preds,k,dim=1).indices\n",
    "            w=(out==z).sum(dim=1)\n",
    "            accu+=(w!=0).sum().item()\n",
    "    \n",
    "  accu=accu/len(val_dl.dataset)\n",
    "  return accu"
   ]
  },
  {
   "cell_type": "code",
   "execution_count": 132,
   "metadata": {
    "colab": {
     "base_uri": "https://localhost:8080/",
     "height": 34
    },
    "colab_type": "code",
    "executionInfo": {
     "elapsed": 19768,
     "status": "ok",
     "timestamp": 1600874154117,
     "user": {
      "displayName": "Joao Gomes",
      "photoUrl": "",
      "userId": "01267124615282327110"
     },
     "user_tz": -120
    },
    "id": "2ean9ZPUTW4o",
    "outputId": "7b05bd74-5b99-4224-abdb-2d0d77c362f7"
   },
   "outputs": [
    {
     "data": {
      "text/plain": [
       "0.6720940959409594"
      ]
     },
     "execution_count": 132,
     "metadata": {
      "tags": []
     },
     "output_type": "execute_result"
    }
   ],
   "source": [
    "topk_accuracy(model,test_dl,1)"
   ]
  },
  {
   "cell_type": "code",
   "execution_count": 91,
   "metadata": {
    "colab": {
     "base_uri": "https://localhost:8080/",
     "height": 34
    },
    "colab_type": "code",
    "executionInfo": {
     "elapsed": 13418,
     "status": "ok",
     "timestamp": 1600867625829,
     "user": {
      "displayName": "Joao Gomes",
      "photoUrl": "",
      "userId": "01267124615282327110"
     },
     "user_tz": -120
    },
    "id": "VS0ppcsUJRzq",
    "outputId": "82f50072-5b54-4cbe-9892-de435c4a1b2f"
   },
   "outputs": [
    {
     "data": {
      "text/plain": [
       "0.6884263071222725"
      ]
     },
     "execution_count": 91,
     "metadata": {
      "tags": []
     },
     "output_type": "execute_result"
    }
   ],
   "source": [
    "topk_accuracy(model,train_dl,1)"
   ]
  },
  {
   "cell_type": "code",
   "execution_count": null,
   "metadata": {
    "colab": {},
    "colab_type": "code",
    "id": "mOtIcQxs-EIO"
   },
   "outputs": [],
   "source": [
    "for b in train_dl:\n",
    "  model.eval()\n",
    "  x,y=b\n",
    "  x=x.to(device)\n",
    "  y=y.to(device)\n",
    "  break"
   ]
  },
  {
   "cell_type": "code",
   "execution_count": null,
   "metadata": {
    "colab": {},
    "colab_type": "code",
    "id": "c9FoTYFutS0p"
   },
   "outputs": [],
   "source": [
    "z=model(x)"
   ]
  },
  {
   "cell_type": "code",
   "execution_count": null,
   "metadata": {
    "colab": {
     "base_uri": "https://localhost:8080/",
     "height": 34
    },
    "colab_type": "code",
    "executionInfo": {
     "elapsed": 830,
     "status": "ok",
     "timestamp": 1600860509860,
     "user": {
      "displayName": "Joao Gomes",
      "photoUrl": "",
      "userId": "01267124615282327110"
     },
     "user_tz": -120
    },
    "id": "sGnGgA8btViI",
    "outputId": "3d88b502-9e3d-4c5e-efa1-1dc0ca127e84"
   },
   "outputs": [
    {
     "data": {
      "text/plain": [
       "tensor([-1., -1., -1.,  ..., -1., -1., -1.], device='cuda:0')"
      ]
     },
     "execution_count": 186,
     "metadata": {
      "tags": []
     },
     "output_type": "execute_result"
    }
   ],
   "source": [
    "y[0]"
   ]
  },
  {
   "cell_type": "code",
   "execution_count": null,
   "metadata": {
    "colab": {
     "base_uri": "https://localhost:8080/",
     "height": 34
    },
    "colab_type": "code",
    "executionInfo": {
     "elapsed": 851,
     "status": "ok",
     "timestamp": 1600860328739,
     "user": {
      "displayName": "Joao Gomes",
      "photoUrl": "",
      "userId": "01267124615282327110"
     },
     "user_tz": -120
    },
    "id": "eahxmGASteE2",
    "outputId": "dd4bfeb6-5e4d-41d9-bb18-7310daf9dfba"
   },
   "outputs": [
    {
     "data": {
      "text/plain": [
       "tensor(399, device='cuda:0')"
      ]
     },
     "execution_count": 181,
     "metadata": {
      "tags": []
     },
     "output_type": "execute_result"
    }
   ],
   "source": [
    "y[0].argmax()"
   ]
  },
  {
   "cell_type": "code",
   "execution_count": null,
   "metadata": {
    "colab": {},
    "colab_type": "code",
    "id": "gDpxRfGO3YFR"
   },
   "outputs": [],
   "source": [
    "def get_n_params(model):\n",
    "    pp=0\n",
    "    for p in list(model.parameters()):\n",
    "        nn=1\n",
    "        for s in list(p.size()):\n",
    "            nn = nn*s\n",
    "        pp += nn\n",
    "    return pp"
   ]
  },
  {
   "cell_type": "code",
   "execution_count": null,
   "metadata": {
    "colab": {
     "base_uri": "https://localhost:8080/",
     "height": 34
    },
    "colab_type": "code",
    "executionInfo": {
     "elapsed": 995,
     "status": "ok",
     "timestamp": 1600847067878,
     "user": {
      "displayName": "Joao Gomes",
      "photoUrl": "",
      "userId": "01267124615282327110"
     },
     "user_tz": -120
    },
    "id": "Gt9wCqHg8yd_",
    "outputId": "dde531df-2276-4b51-8ef8-af1662819c7a"
   },
   "outputs": [
    {
     "data": {
      "text/plain": [
       "2242400"
      ]
     },
     "execution_count": 23,
     "metadata": {
      "tags": []
     },
     "output_type": "execute_result"
    }
   ],
   "source": [
    "get_n_params(model)"
   ]
  },
  {
   "cell_type": "code",
   "execution_count": null,
   "metadata": {
    "colab": {},
    "colab_type": "code",
    "id": "53yBOSVmST0J"
   },
   "outputs": [],
   "source": []
  }
 ],
 "metadata": {
  "accelerator": "GPU",
  "colab": {
   "collapsed_sections": [
    "pFRhj1X3JtCP"
   ],
   "name": "CNN_character_EmbeddingSpace.ipynb",
   "provenance": [
    {
     "file_id": "1gbwqcFg0wyu9PReVCg4p7wL4skZRuVFE",
     "timestamp": 1600437022651
    }
   ],
   "toc_visible": true
  },
  "kernelspec": {
   "display_name": "Python 3",
   "language": "python",
   "name": "python3"
  },
  "language_info": {
   "codemirror_mode": {
    "name": "ipython",
    "version": 3
   },
   "file_extension": ".py",
   "mimetype": "text/x-python",
   "name": "python",
   "nbconvert_exporter": "python",
   "pygments_lexer": "ipython3",
   "version": "3.7.9"
  },
  "toc-autonumbering": false
 },
 "nbformat": 4,
 "nbformat_minor": 4
}
