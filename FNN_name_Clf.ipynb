{
  "nbformat": 4,
  "nbformat_minor": 0,
  "metadata": {
    "colab": {
      "name": "FNN_name_Clf.ipynb",
      "provenance": []
    },
    "kernelspec": {
      "name": "python3",
      "display_name": "Python 3"
    },
    "accelerator": "GPU"
  },
  "cells": [
    {
      "cell_type": "code",
      "metadata": {
        "id": "cVKqmHGjAvia",
        "colab_type": "code",
        "colab": {}
      },
      "source": [
        "import pandas as pd\n",
        "import numpy as np\n",
        "import re\n",
        "import json\n",
        "import pickle"
      ],
      "execution_count": 1,
      "outputs": []
    },
    {
      "cell_type": "code",
      "metadata": {
        "id": "ts-i80JcA0m5",
        "colab_type": "code",
        "colab": {}
      },
      "source": [
        "import torch\n",
        "import torch.nn as nn\n",
        "from torch.utils.data import Dataset\n",
        "import torch.optim as optim\n",
        "import torch.utils.data\n",
        "import torch.nn.functional as F"
      ],
      "execution_count": 2,
      "outputs": []
    },
    {
      "cell_type": "code",
      "metadata": {
        "id": "NA_JQAZNA2at",
        "colab_type": "code",
        "colab": {}
      },
      "source": [
        "from tqdm import tqdm\n",
        "from tqdm import notebook"
      ],
      "execution_count": 3,
      "outputs": []
    },
    {
      "cell_type": "code",
      "metadata": {
        "id": "e3xhTs24A9fO",
        "colab_type": "code",
        "colab": {}
      },
      "source": [
        "class fnn(nn.Module):\n",
        "  def __init__(self,vocab_dim,embed_dim,hidden_dim,output_dim):\n",
        "    super(fnn,self).__init__()\n",
        "\n",
        "    self.embeds=nn.Embedding(vocab_dim,embed_dim)\n",
        "    self.fc1=nn.Linear(embed_dim,hidden_dim)\n",
        "    self.fc2=nn.Linear(hidden_dim,output_dim)\n",
        "    self.relu=nn.ReLU()\n",
        "\n",
        "  def forward(self,x):\n",
        "    x=embeds(x)\n",
        "    x=x.sum(1)\n",
        "    x=self.fc1(x)\n",
        "    x=self.relu(x)\n",
        "    x=self.fc2(x)\n",
        "\n",
        "    return x"
      ],
      "execution_count": 26,
      "outputs": []
    },
    {
      "cell_type": "code",
      "metadata": {
        "id": "5M8vU4mmC7wd",
        "colab_type": "code",
        "colab": {}
      },
      "source": [
        "emb=nn.Embedding(5,2)"
      ],
      "execution_count": 4,
      "outputs": []
    },
    {
      "cell_type": "code",
      "metadata": {
        "id": "9n8XMes4DAFu",
        "colab_type": "code",
        "colab": {}
      },
      "source": [
        "x=torch.tensor([3,3])"
      ],
      "execution_count": 11,
      "outputs": []
    },
    {
      "cell_type": "code",
      "metadata": {
        "id": "KCYCXNcTDZdZ",
        "colab_type": "code",
        "colab": {}
      },
      "source": [
        "y=torch.tensor([[2,3],[1,2]])"
      ],
      "execution_count": 23,
      "outputs": []
    },
    {
      "cell_type": "code",
      "metadata": {
        "id": "3g8SkStNDC1S",
        "colab_type": "code",
        "colab": {
          "base_uri": "https://localhost:8080/",
          "height": 102
        },
        "outputId": "1415d26d-f1f7-4060-c741-3f286b05f392"
      },
      "source": [
        "emb(y)"
      ],
      "execution_count": 24,
      "outputs": [
        {
          "output_type": "execute_result",
          "data": {
            "text/plain": [
              "tensor([[[ 1.1132, -2.1025],\n",
              "         [-0.6905, -1.3596]],\n",
              "\n",
              "        [[-0.4045,  1.8750],\n",
              "         [ 1.1132, -2.1025]]], grad_fn=<EmbeddingBackward>)"
            ]
          },
          "metadata": {
            "tags": []
          },
          "execution_count": 24
        }
      ]
    },
    {
      "cell_type": "code",
      "metadata": {
        "id": "62_44KFwDRrM",
        "colab_type": "code",
        "colab": {
          "base_uri": "https://localhost:8080/",
          "height": 51
        },
        "outputId": "10e2f006-f4e3-4d77-aa93-65f30f3b3886"
      },
      "source": [
        "emb(y).sum(1)"
      ],
      "execution_count": 25,
      "outputs": [
        {
          "output_type": "execute_result",
          "data": {
            "text/plain": [
              "tensor([[ 0.4226, -3.4620],\n",
              "        [ 0.7087, -0.2275]], grad_fn=<SumBackward1>)"
            ]
          },
          "metadata": {
            "tags": []
          },
          "execution_count": 25
        }
      ]
    },
    {
      "cell_type": "code",
      "metadata": {
        "id": "eDBTQ2tADtH8",
        "colab_type": "code",
        "colab": {}
      },
      "source": [
        ""
      ],
      "execution_count": null,
      "outputs": []
    }
  ]
}