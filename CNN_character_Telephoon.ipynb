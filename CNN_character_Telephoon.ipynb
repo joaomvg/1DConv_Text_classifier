{
  "nbformat": 4,
  "nbformat_minor": 0,
  "metadata": {
    "kernelspec": {
      "display_name": "Python 3",
      "language": "python",
      "name": "python3"
    },
    "language_info": {
      "codemirror_mode": {
        "name": "ipython",
        "version": 3
      },
      "file_extension": ".py",
      "mimetype": "text/x-python",
      "name": "python",
      "nbconvert_exporter": "python",
      "pygments_lexer": "ipython3",
      "version": "3.7.6"
    },
    "toc-autonumbering": false,
    "colab": {
      "name": "CNN_character.ipynb",
      "provenance": [],
      "collapsed_sections": [],
      "toc_visible": true
    },
    "accelerator": "GPU",
    "widgets": {
      "application/vnd.jupyter.widget-state+json": {
        "b776b2bb45bc4133970176215aa5605f": {
          "model_module": "@jupyter-widgets/controls",
          "model_name": "HBoxModel",
          "state": {
            "_view_name": "HBoxView",
            "_dom_classes": [],
            "_model_name": "HBoxModel",
            "_view_module": "@jupyter-widgets/controls",
            "_model_module_version": "1.5.0",
            "_view_count": null,
            "_view_module_version": "1.5.0",
            "box_style": "",
            "layout": "IPY_MODEL_e3bded6818ab470eb1522d7cf89fc60d",
            "_model_module": "@jupyter-widgets/controls",
            "children": [
              "IPY_MODEL_b6b92f76daff4fa2a540b9cdba1a5a91",
              "IPY_MODEL_4ce27fff121f4392a225e7559f35f9c7"
            ]
          }
        },
        "e3bded6818ab470eb1522d7cf89fc60d": {
          "model_module": "@jupyter-widgets/base",
          "model_name": "LayoutModel",
          "state": {
            "_view_name": "LayoutView",
            "grid_template_rows": null,
            "right": null,
            "justify_content": null,
            "_view_module": "@jupyter-widgets/base",
            "overflow": null,
            "_model_module_version": "1.2.0",
            "_view_count": null,
            "flex_flow": null,
            "width": null,
            "min_width": null,
            "border": null,
            "align_items": null,
            "bottom": null,
            "_model_module": "@jupyter-widgets/base",
            "top": null,
            "grid_column": null,
            "overflow_y": null,
            "overflow_x": null,
            "grid_auto_flow": null,
            "grid_area": null,
            "grid_template_columns": null,
            "flex": null,
            "_model_name": "LayoutModel",
            "justify_items": null,
            "grid_row": null,
            "max_height": null,
            "align_content": null,
            "visibility": null,
            "align_self": null,
            "height": null,
            "min_height": null,
            "padding": null,
            "grid_auto_rows": null,
            "grid_gap": null,
            "max_width": null,
            "order": null,
            "_view_module_version": "1.2.0",
            "grid_template_areas": null,
            "object_position": null,
            "object_fit": null,
            "grid_auto_columns": null,
            "margin": null,
            "display": null,
            "left": null
          }
        },
        "b6b92f76daff4fa2a540b9cdba1a5a91": {
          "model_module": "@jupyter-widgets/controls",
          "model_name": "FloatProgressModel",
          "state": {
            "_view_name": "ProgressView",
            "style": "IPY_MODEL_6d8ab024f0d24a1ba5b381268e69bb3e",
            "_dom_classes": [],
            "description": "100%",
            "_model_name": "FloatProgressModel",
            "bar_style": "success",
            "max": 278,
            "_view_module": "@jupyter-widgets/controls",
            "_model_module_version": "1.5.0",
            "value": 278,
            "_view_count": null,
            "_view_module_version": "1.5.0",
            "orientation": "horizontal",
            "min": 0,
            "description_tooltip": null,
            "_model_module": "@jupyter-widgets/controls",
            "layout": "IPY_MODEL_dc09db47de0741128056f77cb2747060"
          }
        },
        "4ce27fff121f4392a225e7559f35f9c7": {
          "model_module": "@jupyter-widgets/controls",
          "model_name": "HTMLModel",
          "state": {
            "_view_name": "HTMLView",
            "style": "IPY_MODEL_30dd38a3f22c4ec1a7e8e49f9e424608",
            "_dom_classes": [],
            "description": "",
            "_model_name": "HTMLModel",
            "placeholder": "​",
            "_view_module": "@jupyter-widgets/controls",
            "_model_module_version": "1.5.0",
            "value": " 278/278 [06:50&lt;00:00,  1.47s/it]",
            "_view_count": null,
            "_view_module_version": "1.5.0",
            "description_tooltip": null,
            "_model_module": "@jupyter-widgets/controls",
            "layout": "IPY_MODEL_2f087d9972fe4b01b08b5dcb2a0af53a"
          }
        },
        "6d8ab024f0d24a1ba5b381268e69bb3e": {
          "model_module": "@jupyter-widgets/controls",
          "model_name": "ProgressStyleModel",
          "state": {
            "_view_name": "StyleView",
            "_model_name": "ProgressStyleModel",
            "description_width": "initial",
            "_view_module": "@jupyter-widgets/base",
            "_model_module_version": "1.5.0",
            "_view_count": null,
            "_view_module_version": "1.2.0",
            "bar_color": null,
            "_model_module": "@jupyter-widgets/controls"
          }
        },
        "dc09db47de0741128056f77cb2747060": {
          "model_module": "@jupyter-widgets/base",
          "model_name": "LayoutModel",
          "state": {
            "_view_name": "LayoutView",
            "grid_template_rows": null,
            "right": null,
            "justify_content": null,
            "_view_module": "@jupyter-widgets/base",
            "overflow": null,
            "_model_module_version": "1.2.0",
            "_view_count": null,
            "flex_flow": null,
            "width": null,
            "min_width": null,
            "border": null,
            "align_items": null,
            "bottom": null,
            "_model_module": "@jupyter-widgets/base",
            "top": null,
            "grid_column": null,
            "overflow_y": null,
            "overflow_x": null,
            "grid_auto_flow": null,
            "grid_area": null,
            "grid_template_columns": null,
            "flex": null,
            "_model_name": "LayoutModel",
            "justify_items": null,
            "grid_row": null,
            "max_height": null,
            "align_content": null,
            "visibility": null,
            "align_self": null,
            "height": null,
            "min_height": null,
            "padding": null,
            "grid_auto_rows": null,
            "grid_gap": null,
            "max_width": null,
            "order": null,
            "_view_module_version": "1.2.0",
            "grid_template_areas": null,
            "object_position": null,
            "object_fit": null,
            "grid_auto_columns": null,
            "margin": null,
            "display": null,
            "left": null
          }
        },
        "30dd38a3f22c4ec1a7e8e49f9e424608": {
          "model_module": "@jupyter-widgets/controls",
          "model_name": "DescriptionStyleModel",
          "state": {
            "_view_name": "StyleView",
            "_model_name": "DescriptionStyleModel",
            "description_width": "",
            "_view_module": "@jupyter-widgets/base",
            "_model_module_version": "1.5.0",
            "_view_count": null,
            "_view_module_version": "1.2.0",
            "_model_module": "@jupyter-widgets/controls"
          }
        },
        "2f087d9972fe4b01b08b5dcb2a0af53a": {
          "model_module": "@jupyter-widgets/base",
          "model_name": "LayoutModel",
          "state": {
            "_view_name": "LayoutView",
            "grid_template_rows": null,
            "right": null,
            "justify_content": null,
            "_view_module": "@jupyter-widgets/base",
            "overflow": null,
            "_model_module_version": "1.2.0",
            "_view_count": null,
            "flex_flow": null,
            "width": null,
            "min_width": null,
            "border": null,
            "align_items": null,
            "bottom": null,
            "_model_module": "@jupyter-widgets/base",
            "top": null,
            "grid_column": null,
            "overflow_y": null,
            "overflow_x": null,
            "grid_auto_flow": null,
            "grid_area": null,
            "grid_template_columns": null,
            "flex": null,
            "_model_name": "LayoutModel",
            "justify_items": null,
            "grid_row": null,
            "max_height": null,
            "align_content": null,
            "visibility": null,
            "align_self": null,
            "height": null,
            "min_height": null,
            "padding": null,
            "grid_auto_rows": null,
            "grid_gap": null,
            "max_width": null,
            "order": null,
            "_view_module_version": "1.2.0",
            "grid_template_areas": null,
            "object_position": null,
            "object_fit": null,
            "grid_auto_columns": null,
            "margin": null,
            "display": null,
            "left": null
          }
        },
        "3efef657fc6b4f989cabd58232650779": {
          "model_module": "@jupyter-widgets/controls",
          "model_name": "HBoxModel",
          "state": {
            "_view_name": "HBoxView",
            "_dom_classes": [],
            "_model_name": "HBoxModel",
            "_view_module": "@jupyter-widgets/controls",
            "_model_module_version": "1.5.0",
            "_view_count": null,
            "_view_module_version": "1.5.0",
            "box_style": "",
            "layout": "IPY_MODEL_8538639b0c414206a310cb6edeb73930",
            "_model_module": "@jupyter-widgets/controls",
            "children": [
              "IPY_MODEL_1e35805b1f124b7f813d1aa76ff6b94b",
              "IPY_MODEL_19ff84e12b2c460aacb426b99ff13d42"
            ]
          }
        },
        "8538639b0c414206a310cb6edeb73930": {
          "model_module": "@jupyter-widgets/base",
          "model_name": "LayoutModel",
          "state": {
            "_view_name": "LayoutView",
            "grid_template_rows": null,
            "right": null,
            "justify_content": null,
            "_view_module": "@jupyter-widgets/base",
            "overflow": null,
            "_model_module_version": "1.2.0",
            "_view_count": null,
            "flex_flow": null,
            "width": null,
            "min_width": null,
            "border": null,
            "align_items": null,
            "bottom": null,
            "_model_module": "@jupyter-widgets/base",
            "top": null,
            "grid_column": null,
            "overflow_y": null,
            "overflow_x": null,
            "grid_auto_flow": null,
            "grid_area": null,
            "grid_template_columns": null,
            "flex": null,
            "_model_name": "LayoutModel",
            "justify_items": null,
            "grid_row": null,
            "max_height": null,
            "align_content": null,
            "visibility": null,
            "align_self": null,
            "height": null,
            "min_height": null,
            "padding": null,
            "grid_auto_rows": null,
            "grid_gap": null,
            "max_width": null,
            "order": null,
            "_view_module_version": "1.2.0",
            "grid_template_areas": null,
            "object_position": null,
            "object_fit": null,
            "grid_auto_columns": null,
            "margin": null,
            "display": null,
            "left": null
          }
        },
        "1e35805b1f124b7f813d1aa76ff6b94b": {
          "model_module": "@jupyter-widgets/controls",
          "model_name": "FloatProgressModel",
          "state": {
            "_view_name": "ProgressView",
            "style": "IPY_MODEL_1d94480e69264a75b6a247224263de5b",
            "_dom_classes": [],
            "description": "100%",
            "_model_name": "FloatProgressModel",
            "bar_style": "success",
            "max": 278,
            "_view_module": "@jupyter-widgets/controls",
            "_model_module_version": "1.5.0",
            "value": 278,
            "_view_count": null,
            "_view_module_version": "1.5.0",
            "orientation": "horizontal",
            "min": 0,
            "description_tooltip": null,
            "_model_module": "@jupyter-widgets/controls",
            "layout": "IPY_MODEL_24a8b51d91fd47f6a14f064c1cfc0f03"
          }
        },
        "19ff84e12b2c460aacb426b99ff13d42": {
          "model_module": "@jupyter-widgets/controls",
          "model_name": "HTMLModel",
          "state": {
            "_view_name": "HTMLView",
            "style": "IPY_MODEL_af498812218646fd9ae659503d6a53c6",
            "_dom_classes": [],
            "description": "",
            "_model_name": "HTMLModel",
            "placeholder": "​",
            "_view_module": "@jupyter-widgets/controls",
            "_model_module_version": "1.5.0",
            "value": " 278/278 [06:46&lt;00:00,  1.46s/it]",
            "_view_count": null,
            "_view_module_version": "1.5.0",
            "description_tooltip": null,
            "_model_module": "@jupyter-widgets/controls",
            "layout": "IPY_MODEL_d3c7203de2324b8bb2863a78dd4e8dbb"
          }
        },
        "1d94480e69264a75b6a247224263de5b": {
          "model_module": "@jupyter-widgets/controls",
          "model_name": "ProgressStyleModel",
          "state": {
            "_view_name": "StyleView",
            "_model_name": "ProgressStyleModel",
            "description_width": "initial",
            "_view_module": "@jupyter-widgets/base",
            "_model_module_version": "1.5.0",
            "_view_count": null,
            "_view_module_version": "1.2.0",
            "bar_color": null,
            "_model_module": "@jupyter-widgets/controls"
          }
        },
        "24a8b51d91fd47f6a14f064c1cfc0f03": {
          "model_module": "@jupyter-widgets/base",
          "model_name": "LayoutModel",
          "state": {
            "_view_name": "LayoutView",
            "grid_template_rows": null,
            "right": null,
            "justify_content": null,
            "_view_module": "@jupyter-widgets/base",
            "overflow": null,
            "_model_module_version": "1.2.0",
            "_view_count": null,
            "flex_flow": null,
            "width": null,
            "min_width": null,
            "border": null,
            "align_items": null,
            "bottom": null,
            "_model_module": "@jupyter-widgets/base",
            "top": null,
            "grid_column": null,
            "overflow_y": null,
            "overflow_x": null,
            "grid_auto_flow": null,
            "grid_area": null,
            "grid_template_columns": null,
            "flex": null,
            "_model_name": "LayoutModel",
            "justify_items": null,
            "grid_row": null,
            "max_height": null,
            "align_content": null,
            "visibility": null,
            "align_self": null,
            "height": null,
            "min_height": null,
            "padding": null,
            "grid_auto_rows": null,
            "grid_gap": null,
            "max_width": null,
            "order": null,
            "_view_module_version": "1.2.0",
            "grid_template_areas": null,
            "object_position": null,
            "object_fit": null,
            "grid_auto_columns": null,
            "margin": null,
            "display": null,
            "left": null
          }
        },
        "af498812218646fd9ae659503d6a53c6": {
          "model_module": "@jupyter-widgets/controls",
          "model_name": "DescriptionStyleModel",
          "state": {
            "_view_name": "StyleView",
            "_model_name": "DescriptionStyleModel",
            "description_width": "",
            "_view_module": "@jupyter-widgets/base",
            "_model_module_version": "1.5.0",
            "_view_count": null,
            "_view_module_version": "1.2.0",
            "_model_module": "@jupyter-widgets/controls"
          }
        },
        "d3c7203de2324b8bb2863a78dd4e8dbb": {
          "model_module": "@jupyter-widgets/base",
          "model_name": "LayoutModel",
          "state": {
            "_view_name": "LayoutView",
            "grid_template_rows": null,
            "right": null,
            "justify_content": null,
            "_view_module": "@jupyter-widgets/base",
            "overflow": null,
            "_model_module_version": "1.2.0",
            "_view_count": null,
            "flex_flow": null,
            "width": null,
            "min_width": null,
            "border": null,
            "align_items": null,
            "bottom": null,
            "_model_module": "@jupyter-widgets/base",
            "top": null,
            "grid_column": null,
            "overflow_y": null,
            "overflow_x": null,
            "grid_auto_flow": null,
            "grid_area": null,
            "grid_template_columns": null,
            "flex": null,
            "_model_name": "LayoutModel",
            "justify_items": null,
            "grid_row": null,
            "max_height": null,
            "align_content": null,
            "visibility": null,
            "align_self": null,
            "height": null,
            "min_height": null,
            "padding": null,
            "grid_auto_rows": null,
            "grid_gap": null,
            "max_width": null,
            "order": null,
            "_view_module_version": "1.2.0",
            "grid_template_areas": null,
            "object_position": null,
            "object_fit": null,
            "grid_auto_columns": null,
            "margin": null,
            "display": null,
            "left": null
          }
        },
        "bc9b0288bcc84023ae16b11a6e178cc7": {
          "model_module": "@jupyter-widgets/controls",
          "model_name": "HBoxModel",
          "state": {
            "_view_name": "HBoxView",
            "_dom_classes": [],
            "_model_name": "HBoxModel",
            "_view_module": "@jupyter-widgets/controls",
            "_model_module_version": "1.5.0",
            "_view_count": null,
            "_view_module_version": "1.5.0",
            "box_style": "",
            "layout": "IPY_MODEL_a1deca63b6f24402a526f5c40e7481f1",
            "_model_module": "@jupyter-widgets/controls",
            "children": [
              "IPY_MODEL_b123ff1b680149e9924ac10ed82e651a",
              "IPY_MODEL_5bded252ca3948da8bee5bc3eb0cedb2"
            ]
          }
        },
        "a1deca63b6f24402a526f5c40e7481f1": {
          "model_module": "@jupyter-widgets/base",
          "model_name": "LayoutModel",
          "state": {
            "_view_name": "LayoutView",
            "grid_template_rows": null,
            "right": null,
            "justify_content": null,
            "_view_module": "@jupyter-widgets/base",
            "overflow": null,
            "_model_module_version": "1.2.0",
            "_view_count": null,
            "flex_flow": null,
            "width": null,
            "min_width": null,
            "border": null,
            "align_items": null,
            "bottom": null,
            "_model_module": "@jupyter-widgets/base",
            "top": null,
            "grid_column": null,
            "overflow_y": null,
            "overflow_x": null,
            "grid_auto_flow": null,
            "grid_area": null,
            "grid_template_columns": null,
            "flex": null,
            "_model_name": "LayoutModel",
            "justify_items": null,
            "grid_row": null,
            "max_height": null,
            "align_content": null,
            "visibility": null,
            "align_self": null,
            "height": null,
            "min_height": null,
            "padding": null,
            "grid_auto_rows": null,
            "grid_gap": null,
            "max_width": null,
            "order": null,
            "_view_module_version": "1.2.0",
            "grid_template_areas": null,
            "object_position": null,
            "object_fit": null,
            "grid_auto_columns": null,
            "margin": null,
            "display": null,
            "left": null
          }
        },
        "b123ff1b680149e9924ac10ed82e651a": {
          "model_module": "@jupyter-widgets/controls",
          "model_name": "FloatProgressModel",
          "state": {
            "_view_name": "ProgressView",
            "style": "IPY_MODEL_68e4534415be4b8e9d57b0c915014617",
            "_dom_classes": [],
            "description": "100%",
            "_model_name": "FloatProgressModel",
            "bar_style": "success",
            "max": 278,
            "_view_module": "@jupyter-widgets/controls",
            "_model_module_version": "1.5.0",
            "value": 278,
            "_view_count": null,
            "_view_module_version": "1.5.0",
            "orientation": "horizontal",
            "min": 0,
            "description_tooltip": null,
            "_model_module": "@jupyter-widgets/controls",
            "layout": "IPY_MODEL_c0ef283666984bd987d5fcc1f5bc4eeb"
          }
        },
        "5bded252ca3948da8bee5bc3eb0cedb2": {
          "model_module": "@jupyter-widgets/controls",
          "model_name": "HTMLModel",
          "state": {
            "_view_name": "HTMLView",
            "style": "IPY_MODEL_a7adbdc7b59a4385bc64b43ccdb122ee",
            "_dom_classes": [],
            "description": "",
            "_model_name": "HTMLModel",
            "placeholder": "​",
            "_view_module": "@jupyter-widgets/controls",
            "_model_module_version": "1.5.0",
            "value": " 278/278 [07:31&lt;00:00,  1.62s/it]",
            "_view_count": null,
            "_view_module_version": "1.5.0",
            "description_tooltip": null,
            "_model_module": "@jupyter-widgets/controls",
            "layout": "IPY_MODEL_0d7c1f0c36004647ae09447a99771e41"
          }
        },
        "68e4534415be4b8e9d57b0c915014617": {
          "model_module": "@jupyter-widgets/controls",
          "model_name": "ProgressStyleModel",
          "state": {
            "_view_name": "StyleView",
            "_model_name": "ProgressStyleModel",
            "description_width": "initial",
            "_view_module": "@jupyter-widgets/base",
            "_model_module_version": "1.5.0",
            "_view_count": null,
            "_view_module_version": "1.2.0",
            "bar_color": null,
            "_model_module": "@jupyter-widgets/controls"
          }
        },
        "c0ef283666984bd987d5fcc1f5bc4eeb": {
          "model_module": "@jupyter-widgets/base",
          "model_name": "LayoutModel",
          "state": {
            "_view_name": "LayoutView",
            "grid_template_rows": null,
            "right": null,
            "justify_content": null,
            "_view_module": "@jupyter-widgets/base",
            "overflow": null,
            "_model_module_version": "1.2.0",
            "_view_count": null,
            "flex_flow": null,
            "width": null,
            "min_width": null,
            "border": null,
            "align_items": null,
            "bottom": null,
            "_model_module": "@jupyter-widgets/base",
            "top": null,
            "grid_column": null,
            "overflow_y": null,
            "overflow_x": null,
            "grid_auto_flow": null,
            "grid_area": null,
            "grid_template_columns": null,
            "flex": null,
            "_model_name": "LayoutModel",
            "justify_items": null,
            "grid_row": null,
            "max_height": null,
            "align_content": null,
            "visibility": null,
            "align_self": null,
            "height": null,
            "min_height": null,
            "padding": null,
            "grid_auto_rows": null,
            "grid_gap": null,
            "max_width": null,
            "order": null,
            "_view_module_version": "1.2.0",
            "grid_template_areas": null,
            "object_position": null,
            "object_fit": null,
            "grid_auto_columns": null,
            "margin": null,
            "display": null,
            "left": null
          }
        },
        "a7adbdc7b59a4385bc64b43ccdb122ee": {
          "model_module": "@jupyter-widgets/controls",
          "model_name": "DescriptionStyleModel",
          "state": {
            "_view_name": "StyleView",
            "_model_name": "DescriptionStyleModel",
            "description_width": "",
            "_view_module": "@jupyter-widgets/base",
            "_model_module_version": "1.5.0",
            "_view_count": null,
            "_view_module_version": "1.2.0",
            "_model_module": "@jupyter-widgets/controls"
          }
        },
        "0d7c1f0c36004647ae09447a99771e41": {
          "model_module": "@jupyter-widgets/base",
          "model_name": "LayoutModel",
          "state": {
            "_view_name": "LayoutView",
            "grid_template_rows": null,
            "right": null,
            "justify_content": null,
            "_view_module": "@jupyter-widgets/base",
            "overflow": null,
            "_model_module_version": "1.2.0",
            "_view_count": null,
            "flex_flow": null,
            "width": null,
            "min_width": null,
            "border": null,
            "align_items": null,
            "bottom": null,
            "_model_module": "@jupyter-widgets/base",
            "top": null,
            "grid_column": null,
            "overflow_y": null,
            "overflow_x": null,
            "grid_auto_flow": null,
            "grid_area": null,
            "grid_template_columns": null,
            "flex": null,
            "_model_name": "LayoutModel",
            "justify_items": null,
            "grid_row": null,
            "max_height": null,
            "align_content": null,
            "visibility": null,
            "align_self": null,
            "height": null,
            "min_height": null,
            "padding": null,
            "grid_auto_rows": null,
            "grid_gap": null,
            "max_width": null,
            "order": null,
            "_view_module_version": "1.2.0",
            "grid_template_areas": null,
            "object_position": null,
            "object_fit": null,
            "grid_auto_columns": null,
            "margin": null,
            "display": null,
            "left": null
          }
        }
      }
    }
  },
  "cells": [
    {
      "cell_type": "code",
      "metadata": {
        "id": "EDYXDhOJW0PD",
        "colab_type": "code",
        "colab": {}
      },
      "source": [
        "import pandas as pd\n",
        "import numpy as np\n",
        "import re\n",
        "import json\n",
        "import pickle"
      ],
      "execution_count": 6,
      "outputs": []
    },
    {
      "cell_type": "code",
      "metadata": {
        "id": "cdNTgNQbW0PH",
        "colab_type": "code",
        "colab": {}
      },
      "source": [
        "import torch\n",
        "import torch.nn as nn\n",
        "from torch.utils.data import Dataset\n",
        "import torch.optim as optim\n",
        "import torch.utils.data\n",
        "import torch.nn.functional as F"
      ],
      "execution_count": 2,
      "outputs": []
    },
    {
      "cell_type": "code",
      "metadata": {
        "id": "97Z4f6Y1pRrD",
        "colab_type": "code",
        "colab": {}
      },
      "source": [
        "from tqdm import tqdm\n",
        "from tqdm import tqdm_notebook\n",
        "from tqdm import notebook"
      ],
      "execution_count": 3,
      "outputs": []
    },
    {
      "cell_type": "code",
      "metadata": {
        "id": "ExmGGri0W0PK",
        "colab_type": "code",
        "colab": {
          "base_uri": "https://localhost:8080/",
          "height": 34
        },
        "outputId": "18408e3c-5457-4868-aab2-9d94d6849337"
      },
      "source": [
        "ls"
      ],
      "execution_count": 5,
      "outputs": [
        {
          "output_type": "stream",
          "text": [
            "data_category.pkl  \u001b[0m\u001b[01;34msample_data\u001b[0m/\n"
          ],
          "name": "stdout"
        }
      ]
    },
    {
      "cell_type": "code",
      "metadata": {
        "id": "tubfSYOWW0PN",
        "colab_type": "code",
        "colab": {}
      },
      "source": [
        "data=pickle.load(open('data_category.pkl','rb'))"
      ],
      "execution_count": 189,
      "outputs": []
    },
    {
      "cell_type": "code",
      "metadata": {
        "id": "FVhbnWqxW0PQ",
        "colab_type": "code",
        "colab": {
          "base_uri": "https://localhost:8080/",
          "height": 238
        },
        "outputId": "a172cf46-0548-44c2-8e2a-6f5b669855e6"
      },
      "source": [
        "data"
      ],
      "execution_count": 119,
      "outputs": [
        {
          "output_type": "execute_result",
          "data": {
            "text/plain": [
              "Name\n",
              "! Bien Buro Installatie en Netwerken B.V.            shopping\n",
              "! Manna                                      service_provider\n",
              "! zaak ! MAGEry                                      shopping\n",
              "!Bewust sociaal op web                       service_provider\n",
              "!DRAMA!                                      service_provider\n",
              "                                                   ...       \n",
              "önder Biskin                                   transportation\n",
              "özmes                                                industry\n",
              "ø audiovisueel                                       industry\n",
              "ŠKODA Autohaas                                 transportation\n",
              "€5,- Shop                                            shopping\n",
              "Name: Category0, Length: 1731940, dtype: object"
            ]
          },
          "metadata": {
            "tags": []
          },
          "execution_count": 119
        }
      ]
    },
    {
      "cell_type": "code",
      "metadata": {
        "id": "ds1tPR2tW0PS",
        "colab_type": "code",
        "colab": {
          "base_uri": "https://localhost:8080/",
          "height": 34
        },
        "outputId": "4c68cff8-aa40-4705-a928-c1a0b3a4f47e"
      },
      "source": [
        "data.shape"
      ],
      "execution_count": 7,
      "outputs": [
        {
          "output_type": "execute_result",
          "data": {
            "text/plain": [
              "(342781, 6)"
            ]
          },
          "metadata": {
            "tags": []
          },
          "execution_count": 7
        }
      ]
    },
    {
      "cell_type": "code",
      "metadata": {
        "id": "LWldN4uQW0PW",
        "colab_type": "code",
        "colab": {
          "base_uri": "https://localhost:8080/",
          "height": 34
        },
        "outputId": "2c028f11-52cd-4337-a5c6-9538301e99aa"
      },
      "source": [
        "data.isna().sum()"
      ],
      "execution_count": 10,
      "outputs": [
        {
          "output_type": "execute_result",
          "data": {
            "text/plain": [
              "0"
            ]
          },
          "metadata": {
            "tags": []
          },
          "execution_count": 10
        }
      ]
    },
    {
      "cell_type": "code",
      "metadata": {
        "id": "ro4t-28EW0PZ",
        "colab_type": "code",
        "colab": {
          "base_uri": "https://localhost:8080/",
          "height": 510
        },
        "outputId": "72b10c22-39b1-41da-bb54-b926d3190ee9"
      },
      "source": [
        "set(data)"
      ],
      "execution_count": 11,
      "outputs": [
        {
          "output_type": "execute_result",
          "data": {
            "text/plain": [
              "{'animal_care',\n",
              " 'association/political_org/union',\n",
              " 'bank',\n",
              " 'eating_out/takeaway',\n",
              " 'education/training',\n",
              " 'elderly care',\n",
              " 'entertainment',\n",
              " 'finance/credit',\n",
              " 'food_and_groceries',\n",
              " 'funeral expenses',\n",
              " 'gambling',\n",
              " 'gifts_donations',\n",
              " 'government/tax/finance',\n",
              " 'health_care',\n",
              " 'holidays',\n",
              " 'housing',\n",
              " 'industry',\n",
              " 'insurance',\n",
              " 'justice/prison',\n",
              " 'justice_costs',\n",
              " 'kids',\n",
              " 'pension',\n",
              " 'room_rental',\n",
              " 'service_provider',\n",
              " 'shopping',\n",
              " 'sport',\n",
              " 'transportation',\n",
              " 'utilities',\n",
              " 'wellbeing'}"
            ]
          },
          "metadata": {
            "tags": []
          },
          "execution_count": 11
        }
      ]
    },
    {
      "cell_type": "code",
      "metadata": {
        "id": "QrVr_m8vYVeC",
        "colab_type": "code",
        "colab": {}
      },
      "source": [
        "lens=[len(x) for x in data.index]"
      ],
      "execution_count": 17,
      "outputs": []
    },
    {
      "cell_type": "code",
      "metadata": {
        "id": "YEPUKw2TYZ1B",
        "colab_type": "code",
        "colab": {
          "base_uri": "https://localhost:8080/",
          "height": 34
        },
        "outputId": "34401cb0-2b90-47b0-d3be-d27de1a8dba0"
      },
      "source": [
        "lens[0]"
      ],
      "execution_count": 18,
      "outputs": [
        {
          "output_type": "execute_result",
          "data": {
            "text/plain": [
              "41"
            ]
          },
          "metadata": {
            "tags": []
          },
          "execution_count": 18
        }
      ]
    },
    {
      "cell_type": "code",
      "metadata": {
        "id": "cpmDhwvGYf64",
        "colab_type": "code",
        "colab": {
          "base_uri": "https://localhost:8080/",
          "height": 34
        },
        "outputId": "880020c9-35d0-4aba-fc77-c945ec2ffb0f"
      },
      "source": [
        "max_len=max(lens)\n",
        "max_len"
      ],
      "execution_count": 21,
      "outputs": [
        {
          "output_type": "execute_result",
          "data": {
            "text/plain": [
              "48"
            ]
          },
          "metadata": {
            "tags": []
          },
          "execution_count": 21
        }
      ]
    },
    {
      "cell_type": "code",
      "metadata": {
        "id": "rsYIoGjpYvxE",
        "colab_type": "code",
        "colab": {}
      },
      "source": [
        "num_classes=len(set(data))"
      ],
      "execution_count": 22,
      "outputs": []
    },
    {
      "cell_type": "code",
      "metadata": {
        "id": "AXxBfCmDYzeS",
        "colab_type": "code",
        "colab": {
          "base_uri": "https://localhost:8080/",
          "height": 34
        },
        "outputId": "e8e73059-4fb7-44a5-b86f-55b9286fe922"
      },
      "source": [
        "num_classes"
      ],
      "execution_count": 23,
      "outputs": [
        {
          "output_type": "execute_result",
          "data": {
            "text/plain": [
              "29"
            ]
          },
          "metadata": {
            "tags": []
          },
          "execution_count": 23
        }
      ]
    },
    {
      "cell_type": "markdown",
      "metadata": {
        "id": "0fqJ8o9QW0Pd",
        "colab_type": "text"
      },
      "source": [
        "# Pythorch model"
      ]
    },
    {
      "cell_type": "code",
      "metadata": {
        "id": "i2OwVx9VW0Pe",
        "colab_type": "code",
        "colab": {}
      },
      "source": [
        "alphabet=\"ABCDEFGHIJKLMNOPQRSTUVWXYZabcdefghijklmnopqrstuvwxyz0123456789-,;.!?:'\\\"/\\\\|_@#$%^&*~`+-=<>()[]{}\""
      ],
      "execution_count": 12,
      "outputs": []
    },
    {
      "cell_type": "code",
      "metadata": {
        "id": "-tP_B9IwW0Pf",
        "colab_type": "code",
        "colab": {}
      },
      "source": [
        "args={'alphabet':alphabet,'number_of_characters':len(alphabet),'max_length':50,'dropout_input':0.2,'number_of_classes':num_classes}"
      ],
      "execution_count": 186,
      "outputs": []
    },
    {
      "cell_type": "code",
      "metadata": {
        "id": "06OiyYQWW0Pi",
        "colab_type": "code",
        "colab": {
          "base_uri": "https://localhost:8080/",
          "height": 102
        },
        "outputId": "fc608c9e-6a10-46a3-974a-34758f5498f4"
      },
      "source": [
        "args"
      ],
      "execution_count": 187,
      "outputs": [
        {
          "output_type": "execute_result",
          "data": {
            "text/plain": [
              "{'alphabet': 'ABCDEFGHIJKLMNOPQRSTUVWXYZabcdefghijklmnopqrstuvwxyz0123456789-,;.!?:\\'\"/\\\\|_@#$%^&*~`+-=<>()[]{}',\n",
              " 'dropout_input': 0.2,\n",
              " 'max_length': 50,\n",
              " 'number_of_characters': 95,\n",
              " 'number_of_classes': 29}"
            ]
          },
          "metadata": {
            "tags": []
          },
          "execution_count": 187
        }
      ]
    },
    {
      "cell_type": "code",
      "metadata": {
        "id": "xFgV-Nj-W0Pk",
        "colab_type": "code",
        "colab": {}
      },
      "source": [
        "class CharacterLevelCNN(nn.Module):\n",
        "    def __init__(self, args):\n",
        "        super(CharacterLevelCNN, self).__init__()\n",
        "\n",
        "        # define conv layers\n",
        "\n",
        "        self.dropout_input = nn.Dropout2d(args['dropout_input'])\n",
        "\n",
        "        self.conv1 = nn.Sequential(nn.Conv1d(args['number_of_characters'],\n",
        "                                             256,\n",
        "                                             kernel_size=7,\n",
        "                                             padding=0),\n",
        "                                   nn.ReLU(),\n",
        "                                   #nn.MaxPool1d(3)\n",
        "                                   )\n",
        "\n",
        "        self.conv2 = nn.Sequential(nn.Conv1d(256, 256, kernel_size=7, padding=0),\n",
        "                                   nn.ReLU(),\n",
        "                                   #nn.MaxPool1d(3)\n",
        "                                   )\n",
        "      \n",
        "        self.conv3 = nn.Sequential(nn.Conv1d(256, 256, kernel_size=3, padding=0),\n",
        "                                   nn.ReLU()\n",
        "                                   )\n",
        "        \n",
        "        self.conv4 = nn.Sequential(nn.Conv1d(256, 256, kernel_size=3, padding=0),\n",
        "                                   nn.ReLU()\n",
        "                                   )\n",
        "\n",
        "        self.conv5 = nn.Sequential(nn.Conv1d(256, 256, kernel_size=3, padding=0),\n",
        "                                   nn.ReLU()\n",
        "                                   )\n",
        "\n",
        "        self.conv6 = nn.Sequential(nn.Conv1d(256, 256, kernel_size=3, padding=0),\n",
        "                                   nn.ReLU(),\n",
        "                                   nn.MaxPool1d(3)\n",
        "                                   )\n",
        "        \n",
        "        # compute the  output shape after forwarding an input to the conv layers\n",
        "\n",
        "        input_shape = (128,\n",
        "                       args['max_length'],\n",
        "                       args['number_of_characters'])\n",
        "        \n",
        "        self.output_dimension = self._get_conv_output(input_shape)\n",
        "\n",
        "        # define linear layers\n",
        "\n",
        "        self.fc1 = nn.Sequential(\n",
        "            nn.Linear(self.output_dimension, 100),\n",
        "            nn.ReLU(),\n",
        "            nn.Dropout(0.5)\n",
        "        )\n",
        "\n",
        "        self.fc2 = nn.Sequential(\n",
        "            nn.Linear(100, 100),\n",
        "            nn.ReLU(),\n",
        "            nn.Dropout(0.5)\n",
        "        )\n",
        "\n",
        "        self.fc3 = nn.Linear(100, args['number_of_classes'])\n",
        "\n",
        "        # initialize weights\n",
        "\n",
        "        self._create_weights()\n",
        "\n",
        "    # utility private functions\n",
        "\n",
        "    def _create_weights(self, mean=0.0, std=0.05):\n",
        "        for module in self.modules():\n",
        "            if isinstance(module, nn.Conv1d) or isinstance(module, nn.Linear):\n",
        "                module.weight.data.normal_(mean, std)\n",
        "\n",
        "\n",
        "    def _get_conv_output(self, shape):\n",
        "        x = torch.rand(shape)\n",
        "        x = x.transpose(1, 2)\n",
        "        x = self.conv1(x)\n",
        "        x = self.conv2(x)\n",
        "        x = self.conv3(x)\n",
        "        x = self.conv4(x)\n",
        "        x = self.conv5(x)\n",
        "        x = self.conv6(x)\n",
        "        \n",
        "        x = x.view(x.size(0), -1)\n",
        "        output_dimension = x.size(1)\n",
        "        return output_dimension\n",
        "\n",
        "    # forward\n",
        "\n",
        "    def forward(self, x):\n",
        "        x = self.dropout_input(x)\n",
        "        x = x.transpose(1, 2)\n",
        "        x = self.conv1(x)\n",
        "        x = self.conv2(x)\n",
        "        x = self.conv3(x)\n",
        "        x = self.conv4(x)\n",
        "        x = self.conv5(x)\n",
        "        x = self.conv6(x)\n",
        "        x = x.view(x.size(0), -1)\n",
        "        x = self.fc1(x)\n",
        "        x = self.fc2(x)\n",
        "        x = self.fc3(x)\n",
        "        return x"
      ],
      "execution_count": 188,
      "outputs": []
    },
    {
      "cell_type": "code",
      "metadata": {
        "id": "npOVd_UQCqQw",
        "colab_type": "code",
        "colab": {}
      },
      "source": [
        "conv1 = nn.Sequential(nn.Conv1d(args['number_of_characters'],\n",
        "                                             256,\n",
        "                                             kernel_size=7,\n",
        "                                             padding=0),\n",
        "                                   nn.ReLU(),\n",
        "                                   #nn.MaxPool1d(3)\n",
        "                                   )\n",
        "\n",
        "conv2 = nn.Sequential(nn.Conv1d(256, 256, kernel_size=7, padding=0),\n",
        "                                   nn.ReLU(),\n",
        "                                   nn.MaxPool1d(3)\n",
        "                                   )\n",
        "\n",
        "conv3=nn.Sequential(nn.Conv1d(256, 256, kernel_size=3, padding=0),\n",
        "                                   nn.ReLU()\n",
        "                                   )\n"
      ],
      "execution_count": 183,
      "outputs": []
    },
    {
      "cell_type": "code",
      "metadata": {
        "id": "TWNHsjXbDCGt",
        "colab_type": "code",
        "colab": {}
      },
      "source": [
        "def get_conv_output( shape):\n",
        "        x = torch.rand(shape)\n",
        "        x = x.transpose(1, 2)\n",
        "        x = conv1(x)\n",
        "        x = conv2(x)\n",
        "        x = conv3(x)\n",
        "        \"\"\"\n",
        "        x = self.conv4(x)\n",
        "        x = self.conv5(x)\n",
        "        x = self.conv6(x)\n",
        "        \"\"\"\n",
        "        #x = x.view(x.size(0), -1)\n",
        "        output_dimension = x.size()\n",
        "        return output_dimension"
      ],
      "execution_count": 168,
      "outputs": []
    },
    {
      "cell_type": "code",
      "metadata": {
        "id": "TgrbgDI9DMlN",
        "colab_type": "code",
        "colab": {}
      },
      "source": [
        "input_shape = (128,\n",
        "                       50,\n",
        "                       args['number_of_characters'])"
      ],
      "execution_count": 165,
      "outputs": []
    },
    {
      "cell_type": "code",
      "metadata": {
        "id": "7xahoLz8DyZH",
        "colab_type": "code",
        "colab": {}
      },
      "source": [
        "x = torch.rand(input_shape)"
      ],
      "execution_count": 172,
      "outputs": []
    },
    {
      "cell_type": "code",
      "metadata": {
        "id": "W1SPTLJXD21Y",
        "colab_type": "code",
        "colab": {
          "base_uri": "https://localhost:8080/",
          "height": 34
        },
        "outputId": "e5da7be3-7aba-4740-ce83-ad73cdb2b88c"
      },
      "source": [
        "x.size()"
      ],
      "execution_count": 173,
      "outputs": [
        {
          "output_type": "execute_result",
          "data": {
            "text/plain": [
              "torch.Size([128, 50, 95])"
            ]
          },
          "metadata": {
            "tags": []
          },
          "execution_count": 173
        }
      ]
    },
    {
      "cell_type": "code",
      "metadata": {
        "id": "i8-d69apD5fN",
        "colab_type": "code",
        "colab": {
          "base_uri": "https://localhost:8080/",
          "height": 34
        },
        "outputId": "fc151688-3393-48ff-b390-a6e917ca5b81"
      },
      "source": [
        "x.transpose(1,2).size()"
      ],
      "execution_count": 181,
      "outputs": [
        {
          "output_type": "execute_result",
          "data": {
            "text/plain": [
              "torch.Size([128, 95, 50])"
            ]
          },
          "metadata": {
            "tags": []
          },
          "execution_count": 181
        }
      ]
    },
    {
      "cell_type": "code",
      "metadata": {
        "id": "qFpC7O6LEA5A",
        "colab_type": "code",
        "colab": {
          "base_uri": "https://localhost:8080/",
          "height": 34
        },
        "outputId": "b979dc34-57c8-4f5a-8d06-da3f8f3f268f"
      },
      "source": [
        "y=conv1(x.transpose(1,2))\n",
        "y.size()"
      ],
      "execution_count": 184,
      "outputs": [
        {
          "output_type": "execute_result",
          "data": {
            "text/plain": [
              "torch.Size([128, 256, 44])"
            ]
          },
          "metadata": {
            "tags": []
          },
          "execution_count": 184
        }
      ]
    },
    {
      "cell_type": "code",
      "metadata": {
        "id": "YXAE7DSkEXMh",
        "colab_type": "code",
        "colab": {
          "base_uri": "https://localhost:8080/",
          "height": 34
        },
        "outputId": "ffd8a210-f41c-4482-c732-3dc74f9ada88"
      },
      "source": [
        "z=conv2(y)\n",
        "z.size()"
      ],
      "execution_count": 185,
      "outputs": [
        {
          "output_type": "execute_result",
          "data": {
            "text/plain": [
              "torch.Size([128, 256, 12])"
            ]
          },
          "metadata": {
            "tags": []
          },
          "execution_count": 185
        }
      ]
    },
    {
      "cell_type": "code",
      "metadata": {
        "id": "AHPeC9OnDODC",
        "colab_type": "code",
        "colab": {
          "base_uri": "https://localhost:8080/",
          "height": 34
        },
        "outputId": "5b297417-61de-4269-9005-289fcd40fb7c"
      },
      "source": [
        "get_conv_output(input_shape)"
      ],
      "execution_count": 171,
      "outputs": [
        {
          "output_type": "execute_result",
          "data": {
            "text/plain": [
              "torch.Size([128, 256, 2])"
            ]
          },
          "metadata": {
            "tags": []
          },
          "execution_count": 171
        }
      ]
    },
    {
      "cell_type": "code",
      "metadata": {
        "id": "BUL2hwx-W0Pm",
        "colab_type": "code",
        "colab": {}
      },
      "source": [
        "class MyDataset(Dataset):\n",
        "    def __init__(self, texts, labels, args):\n",
        "        self.texts = texts\n",
        "        self.labels = labels\n",
        "        self.length = len(self.texts)\n",
        "\n",
        "        self.vocabulary = args['alphabet'] \n",
        "        self.number_of_characters = args['number_of_characters'] \n",
        "        self.max_length = args['max_length']\n",
        "        self.identity_mat = np.identity(self.number_of_characters)\n",
        "\n",
        "    def __len__(self):\n",
        "        return self.length\n",
        "\n",
        "    def __getitem__(self, index):\n",
        "        raw_text = self.texts[index]\n",
        "\n",
        "        data = np.array([self.identity_mat[self.vocabulary.index(i)] for i in list(raw_text)[::-1] if i in self.vocabulary],\n",
        "                        dtype=np.float32)\n",
        "        if len(data) > self.max_length:\n",
        "            data = data[:self.max_length]\n",
        "        elif 0 < len(data) < self.max_length:\n",
        "            data = np.concatenate(\n",
        "                (data, np.zeros((self.max_length - len(data), self.number_of_characters), dtype=np.float32)))\n",
        "        elif len(data) == 0:\n",
        "            data = np.zeros(\n",
        "                (self.max_length, self.number_of_characters), dtype=np.float32)\n",
        "\n",
        "        label = self.labels[index]\n",
        "        data = torch.Tensor(data)\n",
        "\n",
        "        return data, label"
      ],
      "execution_count": 190,
      "outputs": []
    },
    {
      "cell_type": "markdown",
      "metadata": {
        "id": "pFRhj1X3JtCP",
        "colab_type": "text"
      },
      "source": [
        "### Focal Loss"
      ]
    },
    {
      "cell_type": "code",
      "metadata": {
        "id": "A7clhmCjJnZy",
        "colab_type": "code",
        "colab": {}
      },
      "source": [
        "from torch.autograd import Variable\n",
        "\n",
        "class FocalLoss(nn.Module):\n",
        "    def __init__(self, gamma=0, alpha=None, size_average=True):\n",
        "        super(FocalLoss, self).__init__()\n",
        "        self.gamma = gamma\n",
        "        self.alpha = alpha\n",
        "        if isinstance(alpha,(float,int)): \n",
        "            self.alpha = torch.Tensor([alpha,1-alpha])\n",
        "        if isinstance(alpha,list): \n",
        "            self.alpha = torch.Tensor(alpha)\n",
        "        self.size_average = size_average\n",
        "\n",
        "    def forward(self, x, target):\n",
        "        if x.dim()>2:\n",
        "            x = x.view(x.size(0),x.size(1),-1)  # N,C,H,W => N,C,H*W\n",
        "            x = x.transpose(1,2)    # N,C,H*W => N,H*W,C\n",
        "            x = x.contiguous().view(-1,x.size(2))   # N,H*W,C => N*H*W,C\n",
        "        target = target.view(-1,1)\n",
        "\n",
        "        logpt = F.log_softmax(x)\n",
        "        logpt = logpt.gather(1,target)\n",
        "        logpt = logpt.view(-1)\n",
        "        pt = Variable(logpt.data.exp())\n",
        "\n",
        "        if self.alpha is not None:\n",
        "            if self.alpha.type()!=x.data.type():\n",
        "                self.alpha = self.alpha.type_as(x.data)\n",
        "            at = self.alpha.gather(0,target.data.view(-1))\n",
        "            logpt = logpt * Variable(at)\n",
        "\n",
        "        loss = -1 * (1-pt)**self.gamma * logpt\n",
        "        if self.size_average: \n",
        "            return loss.mean()\n",
        "        else: \n",
        "            return loss.sum()"
      ],
      "execution_count": 34,
      "outputs": []
    },
    {
      "cell_type": "code",
      "metadata": {
        "id": "QkPi410RW0Pp",
        "colab_type": "code",
        "colab": {}
      },
      "source": [
        "def process_text(array):\n",
        "    max_len=args['max_length']\n",
        "    l=len(array)\n",
        "    v=[]\n",
        "    for i in range(l):\n",
        "      v.append(array[i]+(max_len-len(array[i]))*\" \")\n",
        "    return np.array(v)"
      ],
      "execution_count": 70,
      "outputs": []
    },
    {
      "cell_type": "code",
      "metadata": {
        "id": "_UI2BIa4dgSg",
        "colab_type": "code",
        "colab": {}
      },
      "source": [
        "data.index=process_text(data.index)"
      ],
      "execution_count": 147,
      "outputs": []
    },
    {
      "cell_type": "code",
      "metadata": {
        "id": "dau3WjJ6dnaX",
        "colab_type": "code",
        "colab": {
          "base_uri": "https://localhost:8080/",
          "height": 34
        },
        "outputId": "1773e496-d9ac-4aff-f39a-38eb12ed933e"
      },
      "source": [
        "len(data.index[-1])"
      ],
      "execution_count": 148,
      "outputs": [
        {
          "output_type": "execute_result",
          "data": {
            "text/plain": [
              "100"
            ]
          },
          "metadata": {
            "tags": []
          },
          "execution_count": 148
        }
      ]
    },
    {
      "cell_type": "code",
      "metadata": {
        "id": "Ru61oB5NW0Pw",
        "colab_type": "code",
        "colab": {}
      },
      "source": [
        "def labels_map(y):\n",
        "    S=set(y)\n",
        "    num=len(S)\n",
        "    dic={word:i for i, word in enumerate(S)}\n",
        "    \n",
        "    labels=y.apply(lambda val: dic[val])\n",
        "    \n",
        "    return labels.values    "
      ],
      "execution_count": 36,
      "outputs": []
    },
    {
      "cell_type": "code",
      "metadata": {
        "id": "5pJ1m2DIW0Py",
        "colab_type": "code",
        "colab": {}
      },
      "source": [
        "labels=labels_map(data)"
      ],
      "execution_count": 37,
      "outputs": []
    },
    {
      "cell_type": "code",
      "metadata": {
        "id": "R5AT7MZIW0P0",
        "colab_type": "code",
        "colab": {
          "base_uri": "https://localhost:8080/",
          "height": 34
        },
        "outputId": "6a3408f1-8ce7-473f-c030-8fe3452ee1d1"
      },
      "source": [
        "labels.shape"
      ],
      "execution_count": 40,
      "outputs": [
        {
          "output_type": "execute_result",
          "data": {
            "text/plain": [
              "(1731940,)"
            ]
          },
          "metadata": {
            "tags": []
          },
          "execution_count": 40
        }
      ]
    },
    {
      "cell_type": "code",
      "metadata": {
        "id": "nxwW-ly9ZbLi",
        "colab_type": "code",
        "colab": {
          "base_uri": "https://localhost:8080/",
          "height": 34
        },
        "outputId": "9fd5ec1d-7e69-4fc4-b914-4de3a617405a"
      },
      "source": [
        "labels"
      ],
      "execution_count": 41,
      "outputs": [
        {
          "output_type": "execute_result",
          "data": {
            "text/plain": [
              "array([21,  4, 21, ...,  8, 28, 21])"
            ]
          },
          "metadata": {
            "tags": []
          },
          "execution_count": 41
        }
      ]
    },
    {
      "cell_type": "code",
      "metadata": {
        "id": "7tWGCeIgaxUa",
        "colab_type": "code",
        "colab": {
          "base_uri": "https://localhost:8080/",
          "height": 170
        },
        "outputId": "fdb7fb50-b882-4fc4-a3f1-968817fcfdef"
      },
      "source": [
        "data.index"
      ],
      "execution_count": 44,
      "outputs": [
        {
          "output_type": "execute_result",
          "data": {
            "text/plain": [
              "Index(['! Bien Buro Installatie en Netwerken B.V.', '! Manna',\n",
              "       '! zaak ! MAGEry ', '!Bewust sociaal op web', '!DRAMA! ',\n",
              "       '!Frank van Bovene', '!M Infra Management', '!R!D!B! Timmerwerken ',\n",
              "       '!T-Sounds ', '!ThingsthatMatter ',\n",
              "       ...\n",
              "       'één0negen ', 'éénKEUKEN', 'être design ', 'être occupé ',\n",
              "       'ông cà lem ', 'önder Biskin', 'özmes', 'ø audiovisueel',\n",
              "       'ŠKODA Autohaas', '€5,- Shop '],\n",
              "      dtype='object', name='Name', length=1731940)"
            ]
          },
          "metadata": {
            "tags": []
          },
          "execution_count": 44
        }
      ]
    },
    {
      "cell_type": "markdown",
      "metadata": {
        "id": "HyaUtlmcW0P2",
        "colab_type": "text"
      },
      "source": [
        "# Train"
      ]
    },
    {
      "cell_type": "code",
      "metadata": {
        "id": "GD5wjEeIW0P2",
        "colab_type": "code",
        "colab": {}
      },
      "source": [
        "def train(model, train_loader, epochs, criterion, optimizer, device):\n",
        "    \n",
        "    for epoch in range(1, epochs + 1):\n",
        "        model.train() # Make sure that the model is in training mode.\n",
        "\n",
        "        total_loss = 0\n",
        "        iterator=notebook.tqdm(train_loader)\n",
        "        for batch in iterator:\n",
        "            # get data\n",
        "            batch_x, batch_y = batch\n",
        "            \n",
        "            batch_x = batch_x.to(device)\n",
        "            batch_y = batch_y.to(device)\n",
        "\n",
        "            optimizer.zero_grad()\n",
        "\n",
        "            # get predictions from model\n",
        "            y_pred = model(batch_x)\n",
        "        \n",
        "            # perform backprop\n",
        "            loss = criterion(y_pred, batch_y)\n",
        "            loss.backward()\n",
        "            optimizer.step()\n",
        "            \n",
        "            total_loss += loss.data.item()\n",
        "        iterator.close()\n",
        "        print(\"Epoch: {}, Loss: {}\".format(epoch, total_loss / len(train_loader)))"
      ],
      "execution_count": 191,
      "outputs": []
    },
    {
      "cell_type": "code",
      "metadata": {
        "id": "G4G19DIxW0P4",
        "colab_type": "code",
        "colab": {}
      },
      "source": [
        "from sklearn.model_selection import train_test_split"
      ],
      "execution_count": 43,
      "outputs": []
    },
    {
      "cell_type": "code",
      "metadata": {
        "id": "cXJAfYlBW0P7",
        "colab_type": "code",
        "colab": {}
      },
      "source": [
        "x_train,x_test,y_train,y_test=train_test_split(data.index,labels,test_size=0.2)"
      ],
      "execution_count": 192,
      "outputs": []
    },
    {
      "cell_type": "code",
      "metadata": {
        "id": "oc89uqFyW0P-",
        "colab_type": "code",
        "colab": {}
      },
      "source": [
        "dataset_train=MyDataset(x_train,y_train,args)"
      ],
      "execution_count": 193,
      "outputs": []
    },
    {
      "cell_type": "code",
      "metadata": {
        "id": "AqPKzFCVW0QA",
        "colab_type": "code",
        "colab": {}
      },
      "source": [
        "dataset_test=MyDataset(x_test,y_test,args)"
      ],
      "execution_count": 194,
      "outputs": []
    },
    {
      "cell_type": "code",
      "metadata": {
        "id": "J6QCxNRoW0QC",
        "colab_type": "code",
        "colab": {}
      },
      "source": [
        "test_dl=torch.utils.data.DataLoader(dataset_test, batch_size=5000)\n",
        "train_dl=torch.utils.data.DataLoader(dataset_train, batch_size=5000)"
      ],
      "execution_count": 200,
      "outputs": []
    },
    {
      "cell_type": "code",
      "metadata": {
        "id": "axzuUoq3PPSg",
        "colab_type": "code",
        "colab": {
          "base_uri": "https://localhost:8080/",
          "height": 102
        },
        "outputId": "1d5f5bd5-000c-46c2-e93b-670d99cb30c6"
      },
      "source": [
        "args"
      ],
      "execution_count": 199,
      "outputs": [
        {
          "output_type": "execute_result",
          "data": {
            "text/plain": [
              "{'alphabet': 'ABCDEFGHIJKLMNOPQRSTUVWXYZabcdefghijklmnopqrstuvwxyz0123456789-,;.!?:\\'\"/\\\\|_@#$%^&*~`+-=<>()[]{}',\n",
              " 'dropout_input': 0.2,\n",
              " 'max_length': 50,\n",
              " 'number_of_characters': 95,\n",
              " 'number_of_classes': 29}"
            ]
          },
          "metadata": {
            "tags": []
          },
          "execution_count": 199
        }
      ]
    },
    {
      "cell_type": "markdown",
      "metadata": {
        "id": "UTi8qb8pW0QD",
        "colab_type": "text"
      },
      "source": [
        "## Initialize model and train"
      ]
    },
    {
      "cell_type": "code",
      "metadata": {
        "id": "iEHmt7kIW0QH",
        "colab_type": "code",
        "colab": {
          "base_uri": "https://localhost:8080/",
          "height": 34
        },
        "outputId": "5eaaea04-e891-44b7-e28d-b6989bcdf9ef"
      },
      "source": [
        "device = torch.device(\"cuda\" if torch.cuda.is_available() else \"cpu\")\n",
        "print(\"Using device {}.\".format(device))"
      ],
      "execution_count": 96,
      "outputs": [
        {
          "output_type": "stream",
          "text": [
            "Using device cuda.\n"
          ],
          "name": "stdout"
        }
      ]
    },
    {
      "cell_type": "code",
      "metadata": {
        "id": "VHVsq2UojouI",
        "colab_type": "code",
        "colab": {}
      },
      "source": [
        "model=CharacterLevelCNN(args).to(device)"
      ],
      "execution_count": 201,
      "outputs": []
    },
    {
      "cell_type": "code",
      "metadata": {
        "id": "rbJ6b7bLW0QF",
        "colab_type": "code",
        "colab": {}
      },
      "source": [
        "optimizer = optim.Adam(model.parameters(),lr=0.001)\n",
        "loss_fn = torch.nn.CrossEntropyLoss()"
      ],
      "execution_count": 202,
      "outputs": []
    },
    {
      "cell_type": "code",
      "metadata": {
        "id": "UH7qgCid1xyC",
        "colab_type": "code",
        "colab": {}
      },
      "source": [
        "optimizer = optim.Adam(model.parameters(),lr=0.0001)\n",
        "loss_fn = FocalLoss(gamma=2)"
      ],
      "execution_count": 42,
      "outputs": []
    },
    {
      "cell_type": "code",
      "metadata": {
        "id": "rwQ6oGp6tlIv",
        "colab_type": "code",
        "colab": {
          "base_uri": "https://localhost:8080/",
          "height": 215,
          "referenced_widgets": [
            "b776b2bb45bc4133970176215aa5605f",
            "e3bded6818ab470eb1522d7cf89fc60d",
            "b6b92f76daff4fa2a540b9cdba1a5a91",
            "4ce27fff121f4392a225e7559f35f9c7",
            "6d8ab024f0d24a1ba5b381268e69bb3e",
            "dc09db47de0741128056f77cb2747060",
            "30dd38a3f22c4ec1a7e8e49f9e424608",
            "2f087d9972fe4b01b08b5dcb2a0af53a",
            "3efef657fc6b4f989cabd58232650779",
            "8538639b0c414206a310cb6edeb73930",
            "1e35805b1f124b7f813d1aa76ff6b94b",
            "19ff84e12b2c460aacb426b99ff13d42",
            "1d94480e69264a75b6a247224263de5b",
            "24a8b51d91fd47f6a14f064c1cfc0f03",
            "af498812218646fd9ae659503d6a53c6",
            "d3c7203de2324b8bb2863a78dd4e8dbb",
            "bc9b0288bcc84023ae16b11a6e178cc7",
            "a1deca63b6f24402a526f5c40e7481f1",
            "b123ff1b680149e9924ac10ed82e651a",
            "5bded252ca3948da8bee5bc3eb0cedb2",
            "68e4534415be4b8e9d57b0c915014617",
            "c0ef283666984bd987d5fcc1f5bc4eeb",
            "a7adbdc7b59a4385bc64b43ccdb122ee",
            "0d7c1f0c36004647ae09447a99771e41"
          ]
        },
        "outputId": "5ee4dad6-bbe2-4a61-d58a-582c46a1acc3"
      },
      "source": [
        "train(model, train_dl, 3, loss_fn,optimizer, device)"
      ],
      "execution_count": 205,
      "outputs": [
        {
          "output_type": "display_data",
          "data": {
            "application/vnd.jupyter.widget-view+json": {
              "model_id": "b776b2bb45bc4133970176215aa5605f",
              "version_minor": 0,
              "version_major": 2
            },
            "text/plain": [
              "HBox(children=(FloatProgress(value=0.0, max=278.0), HTML(value='')))"
            ]
          },
          "metadata": {
            "tags": []
          }
        },
        {
          "output_type": "stream",
          "text": [
            "\n",
            "Epoch: 1, Loss: 1.5450930260925841\n"
          ],
          "name": "stdout"
        },
        {
          "output_type": "display_data",
          "data": {
            "application/vnd.jupyter.widget-view+json": {
              "model_id": "3efef657fc6b4f989cabd58232650779",
              "version_minor": 0,
              "version_major": 2
            },
            "text/plain": [
              "HBox(children=(FloatProgress(value=0.0, max=278.0), HTML(value='')))"
            ]
          },
          "metadata": {
            "tags": []
          }
        },
        {
          "output_type": "stream",
          "text": [
            "\n",
            "Epoch: 2, Loss: 1.5338516008082053\n"
          ],
          "name": "stdout"
        },
        {
          "output_type": "display_data",
          "data": {
            "application/vnd.jupyter.widget-view+json": {
              "model_id": "bc9b0288bcc84023ae16b11a6e178cc7",
              "version_minor": 0,
              "version_major": 2
            },
            "text/plain": [
              "HBox(children=(FloatProgress(value=0.0, max=278.0), HTML(value='')))"
            ]
          },
          "metadata": {
            "tags": []
          }
        },
        {
          "output_type": "stream",
          "text": [
            "\n",
            "Epoch: 3, Loss: 1.5247703743495529\n"
          ],
          "name": "stdout"
        }
      ]
    },
    {
      "cell_type": "code",
      "metadata": {
        "id": "WH7oJn7cclJj",
        "colab_type": "code",
        "colab": {}
      },
      "source": [
        " def accuracy(model,val_dl):\n",
        "  model.eval()\n",
        "  with torch.no_grad():\n",
        "        accu=0\n",
        "        for batch in val_dl:\n",
        "            val_X,val_y=batch\n",
        "            val_X=val_X.to(device)\n",
        "            val_y=val_y.to(device)\n",
        "            x=model(val_X)\n",
        "            probs=F.softmax(x,dim=1)\n",
        "            preds=probs.argmax(dim=1)\n",
        "            accu+=(preds==val_y).sum().item()\n",
        "    \n",
        "  accu=accu/len(val_dl.dataset)*100\n",
        "  return accu"
      ],
      "execution_count": 112,
      "outputs": []
    },
    {
      "cell_type": "code",
      "metadata": {
        "id": "hXSvW2FKoR2u",
        "colab_type": "code",
        "colab": {
          "base_uri": "https://localhost:8080/",
          "height": 34
        },
        "outputId": "490f180d-0597-4ea5-8f4c-9b7f30845a03"
      },
      "source": [
        "accuracy(model,test_dl)"
      ],
      "execution_count": 206,
      "outputs": [
        {
          "output_type": "execute_result",
          "data": {
            "text/plain": [
              "55.41964502234489"
            ]
          },
          "metadata": {
            "tags": []
          },
          "execution_count": 206
        }
      ]
    },
    {
      "cell_type": "code",
      "metadata": {
        "id": "r96HCV_4tJ0u",
        "colab_type": "code",
        "colab": {}
      },
      "source": [
        "20 epochs: 89.74575900345698\n",
        "30 epochs: 89.80118733316802"
      ],
      "execution_count": null,
      "outputs": []
    },
    {
      "cell_type": "markdown",
      "metadata": {
        "id": "ohsSYybuKcdZ",
        "colab_type": "text"
      },
      "source": [
        "10 epochs: 84.93078751987397\n",
        "\n",
        "20 epochs: 87.42360371661537"
      ]
    }
  ]
}